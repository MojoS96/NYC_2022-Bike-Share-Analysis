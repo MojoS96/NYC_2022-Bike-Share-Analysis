{
 "cells": [
  {
   "cell_type": "code",
   "execution_count": 1,
   "id": "62a0dc4f-e276-4a7a-95bd-056a6a166873",
   "metadata": {
    "collapsed": true,
    "jupyter": {
     "outputs_hidden": true
    },
    "tags": []
   },
   "outputs": [
    {
     "name": "stdout",
     "output_type": "stream",
     "text": [
      "Requirement already satisfied: streamlit in c:\\users\\mojos\\anaconda3\\envs\\venv_nycbikes\\lib\\site-packages (1.37.1)\n",
      "Requirement already satisfied: altair<6,>=4.0 in c:\\users\\mojos\\anaconda3\\envs\\venv_nycbikes\\lib\\site-packages (from streamlit) (5.4.0)\n",
      "Requirement already satisfied: blinker<2,>=1.0.0 in c:\\users\\mojos\\anaconda3\\envs\\venv_nycbikes\\lib\\site-packages (from streamlit) (1.8.2)\n",
      "Requirement already satisfied: cachetools<6,>=4.0 in c:\\users\\mojos\\anaconda3\\envs\\venv_nycbikes\\lib\\site-packages (from streamlit) (5.5.0)\n",
      "Requirement already satisfied: click<9,>=7.0 in c:\\users\\mojos\\anaconda3\\envs\\venv_nycbikes\\lib\\site-packages (from streamlit) (8.1.7)\n",
      "Requirement already satisfied: numpy<3,>=1.20 in c:\\users\\mojos\\anaconda3\\envs\\venv_nycbikes\\lib\\site-packages (from streamlit) (2.0.1)\n",
      "Requirement already satisfied: packaging<25,>=20 in c:\\users\\mojos\\anaconda3\\envs\\venv_nycbikes\\lib\\site-packages (from streamlit) (24.1)\n",
      "Requirement already satisfied: pandas<3,>=1.3.0 in c:\\users\\mojos\\anaconda3\\envs\\venv_nycbikes\\lib\\site-packages (from streamlit) (2.2.2)\n",
      "Requirement already satisfied: pillow<11,>=7.1.0 in c:\\users\\mojos\\anaconda3\\envs\\venv_nycbikes\\lib\\site-packages (from streamlit) (10.4.0)\n",
      "Requirement already satisfied: protobuf<6,>=3.20 in c:\\users\\mojos\\anaconda3\\envs\\venv_nycbikes\\lib\\site-packages (from streamlit) (5.27.3)\n",
      "Requirement already satisfied: pyarrow>=7.0 in c:\\users\\mojos\\anaconda3\\envs\\venv_nycbikes\\lib\\site-packages (from streamlit) (17.0.0)\n",
      "Requirement already satisfied: requests<3,>=2.27 in c:\\users\\mojos\\anaconda3\\envs\\venv_nycbikes\\lib\\site-packages (from streamlit) (2.32.3)\n",
      "Requirement already satisfied: rich<14,>=10.14.0 in c:\\users\\mojos\\anaconda3\\envs\\venv_nycbikes\\lib\\site-packages (from streamlit) (13.7.1)\n",
      "Requirement already satisfied: tenacity<9,>=8.1.0 in c:\\users\\mojos\\anaconda3\\envs\\venv_nycbikes\\lib\\site-packages (from streamlit) (8.5.0)\n",
      "Requirement already satisfied: toml<2,>=0.10.1 in c:\\users\\mojos\\anaconda3\\envs\\venv_nycbikes\\lib\\site-packages (from streamlit) (0.10.2)\n",
      "Requirement already satisfied: typing-extensions<5,>=4.3.0 in c:\\users\\mojos\\anaconda3\\envs\\venv_nycbikes\\lib\\site-packages (from streamlit) (4.12.2)\n",
      "Requirement already satisfied: gitpython!=3.1.19,<4,>=3.0.7 in c:\\users\\mojos\\anaconda3\\envs\\venv_nycbikes\\lib\\site-packages (from streamlit) (3.1.43)\n",
      "Requirement already satisfied: pydeck<1,>=0.8.0b4 in c:\\users\\mojos\\anaconda3\\envs\\venv_nycbikes\\lib\\site-packages (from streamlit) (0.9.1)\n",
      "Requirement already satisfied: tornado<7,>=6.0.3 in c:\\users\\mojos\\anaconda3\\envs\\venv_nycbikes\\lib\\site-packages (from streamlit) (6.4.1)\n",
      "Requirement already satisfied: watchdog<5,>=2.1.5 in c:\\users\\mojos\\anaconda3\\envs\\venv_nycbikes\\lib\\site-packages (from streamlit) (4.0.2)\n",
      "Requirement already satisfied: jinja2 in c:\\users\\mojos\\anaconda3\\envs\\venv_nycbikes\\lib\\site-packages (from altair<6,>=4.0->streamlit) (3.1.4)\n",
      "Requirement already satisfied: jsonschema>=3.0 in c:\\users\\mojos\\anaconda3\\envs\\venv_nycbikes\\lib\\site-packages (from altair<6,>=4.0->streamlit) (4.23.0)\n",
      "Requirement already satisfied: narwhals>=1.1.0 in c:\\users\\mojos\\anaconda3\\envs\\venv_nycbikes\\lib\\site-packages (from altair<6,>=4.0->streamlit) (1.5.5)\n",
      "Requirement already satisfied: colorama in c:\\users\\mojos\\anaconda3\\envs\\venv_nycbikes\\lib\\site-packages (from click<9,>=7.0->streamlit) (0.4.6)\n",
      "Requirement already satisfied: gitdb<5,>=4.0.1 in c:\\users\\mojos\\anaconda3\\envs\\venv_nycbikes\\lib\\site-packages (from gitpython!=3.1.19,<4,>=3.0.7->streamlit) (4.0.11)\n",
      "Requirement already satisfied: python-dateutil>=2.8.2 in c:\\users\\mojos\\anaconda3\\envs\\venv_nycbikes\\lib\\site-packages (from pandas<3,>=1.3.0->streamlit) (2.9.0.post0)\n",
      "Requirement already satisfied: pytz>=2020.1 in c:\\users\\mojos\\anaconda3\\envs\\venv_nycbikes\\lib\\site-packages (from pandas<3,>=1.3.0->streamlit) (2024.1)\n",
      "Requirement already satisfied: tzdata>=2022.7 in c:\\users\\mojos\\anaconda3\\envs\\venv_nycbikes\\lib\\site-packages (from pandas<3,>=1.3.0->streamlit) (2024.1)\n",
      "Requirement already satisfied: charset-normalizer<4,>=2 in c:\\users\\mojos\\anaconda3\\envs\\venv_nycbikes\\lib\\site-packages (from requests<3,>=2.27->streamlit) (3.3.2)\n",
      "Requirement already satisfied: idna<4,>=2.5 in c:\\users\\mojos\\anaconda3\\envs\\venv_nycbikes\\lib\\site-packages (from requests<3,>=2.27->streamlit) (3.7)\n",
      "Requirement already satisfied: urllib3<3,>=1.21.1 in c:\\users\\mojos\\anaconda3\\envs\\venv_nycbikes\\lib\\site-packages (from requests<3,>=2.27->streamlit) (2.2.2)\n",
      "Requirement already satisfied: certifi>=2017.4.17 in c:\\users\\mojos\\anaconda3\\envs\\venv_nycbikes\\lib\\site-packages (from requests<3,>=2.27->streamlit) (2024.7.4)\n",
      "Requirement already satisfied: markdown-it-py>=2.2.0 in c:\\users\\mojos\\anaconda3\\envs\\venv_nycbikes\\lib\\site-packages (from rich<14,>=10.14.0->streamlit) (3.0.0)\n",
      "Requirement already satisfied: pygments<3.0.0,>=2.13.0 in c:\\users\\mojos\\anaconda3\\envs\\venv_nycbikes\\lib\\site-packages (from rich<14,>=10.14.0->streamlit) (2.18.0)\n",
      "Requirement already satisfied: smmap<6,>=3.0.1 in c:\\users\\mojos\\anaconda3\\envs\\venv_nycbikes\\lib\\site-packages (from gitdb<5,>=4.0.1->gitpython!=3.1.19,<4,>=3.0.7->streamlit) (5.0.1)\n",
      "Requirement already satisfied: MarkupSafe>=2.0 in c:\\users\\mojos\\anaconda3\\envs\\venv_nycbikes\\lib\\site-packages (from jinja2->altair<6,>=4.0->streamlit) (2.1.5)\n",
      "Requirement already satisfied: attrs>=22.2.0 in c:\\users\\mojos\\anaconda3\\envs\\venv_nycbikes\\lib\\site-packages (from jsonschema>=3.0->altair<6,>=4.0->streamlit) (24.2.0)\n",
      "Requirement already satisfied: jsonschema-specifications>=2023.03.6 in c:\\users\\mojos\\anaconda3\\envs\\venv_nycbikes\\lib\\site-packages (from jsonschema>=3.0->altair<6,>=4.0->streamlit) (2023.12.1)\n",
      "Requirement already satisfied: referencing>=0.28.4 in c:\\users\\mojos\\anaconda3\\envs\\venv_nycbikes\\lib\\site-packages (from jsonschema>=3.0->altair<6,>=4.0->streamlit) (0.35.1)\n",
      "Requirement already satisfied: rpds-py>=0.7.1 in c:\\users\\mojos\\anaconda3\\envs\\venv_nycbikes\\lib\\site-packages (from jsonschema>=3.0->altair<6,>=4.0->streamlit) (0.20.0)\n",
      "Requirement already satisfied: mdurl~=0.1 in c:\\users\\mojos\\anaconda3\\envs\\venv_nycbikes\\lib\\site-packages (from markdown-it-py>=2.2.0->rich<14,>=10.14.0->streamlit) (0.1.2)\n",
      "Requirement already satisfied: six>=1.5 in c:\\users\\mojos\\anaconda3\\envs\\venv_nycbikes\\lib\\site-packages (from python-dateutil>=2.8.2->pandas<3,>=1.3.0->streamlit) (1.16.0)\n",
      "Requirement already satisfied: plotly in c:\\users\\mojos\\anaconda3\\envs\\venv_nycbikes\\lib\\site-packages (5.23.0)\n",
      "Requirement already satisfied: tenacity>=6.2.0 in c:\\users\\mojos\\anaconda3\\envs\\venv_nycbikes\\lib\\site-packages (from plotly) (8.5.0)\n",
      "Requirement already satisfied: packaging in c:\\users\\mojos\\anaconda3\\envs\\venv_nycbikes\\lib\\site-packages (from plotly) (24.1)\n",
      "Requirement already satisfied: streamlit-keplergl in c:\\users\\mojos\\anaconda3\\envs\\venv_nycbikes\\lib\\site-packages (0.3.0)\n",
      "Requirement already satisfied: streamlit>=0.79 in c:\\users\\mojos\\anaconda3\\envs\\venv_nycbikes\\lib\\site-packages (from streamlit-keplergl) (1.37.1)\n",
      "Requirement already satisfied: keplergl in c:\\users\\mojos\\anaconda3\\envs\\venv_nycbikes\\lib\\site-packages (from streamlit-keplergl) (0.3.2)\n",
      "Requirement already satisfied: altair<6,>=4.0 in c:\\users\\mojos\\anaconda3\\envs\\venv_nycbikes\\lib\\site-packages (from streamlit>=0.79->streamlit-keplergl) (5.4.0)\n",
      "Requirement already satisfied: blinker<2,>=1.0.0 in c:\\users\\mojos\\anaconda3\\envs\\venv_nycbikes\\lib\\site-packages (from streamlit>=0.79->streamlit-keplergl) (1.8.2)\n",
      "Requirement already satisfied: cachetools<6,>=4.0 in c:\\users\\mojos\\anaconda3\\envs\\venv_nycbikes\\lib\\site-packages (from streamlit>=0.79->streamlit-keplergl) (5.5.0)\n",
      "Requirement already satisfied: click<9,>=7.0 in c:\\users\\mojos\\anaconda3\\envs\\venv_nycbikes\\lib\\site-packages (from streamlit>=0.79->streamlit-keplergl) (8.1.7)\n",
      "Requirement already satisfied: numpy<3,>=1.20 in c:\\users\\mojos\\anaconda3\\envs\\venv_nycbikes\\lib\\site-packages (from streamlit>=0.79->streamlit-keplergl) (2.0.1)\n",
      "Requirement already satisfied: packaging<25,>=20 in c:\\users\\mojos\\anaconda3\\envs\\venv_nycbikes\\lib\\site-packages (from streamlit>=0.79->streamlit-keplergl) (24.1)\n",
      "Requirement already satisfied: pandas<3,>=1.3.0 in c:\\users\\mojos\\anaconda3\\envs\\venv_nycbikes\\lib\\site-packages (from streamlit>=0.79->streamlit-keplergl) (2.2.2)\n",
      "Requirement already satisfied: pillow<11,>=7.1.0 in c:\\users\\mojos\\anaconda3\\envs\\venv_nycbikes\\lib\\site-packages (from streamlit>=0.79->streamlit-keplergl) (10.4.0)\n",
      "Requirement already satisfied: protobuf<6,>=3.20 in c:\\users\\mojos\\anaconda3\\envs\\venv_nycbikes\\lib\\site-packages (from streamlit>=0.79->streamlit-keplergl) (5.27.3)\n",
      "Requirement already satisfied: pyarrow>=7.0 in c:\\users\\mojos\\anaconda3\\envs\\venv_nycbikes\\lib\\site-packages (from streamlit>=0.79->streamlit-keplergl) (17.0.0)\n",
      "Requirement already satisfied: requests<3,>=2.27 in c:\\users\\mojos\\anaconda3\\envs\\venv_nycbikes\\lib\\site-packages (from streamlit>=0.79->streamlit-keplergl) (2.32.3)\n",
      "Requirement already satisfied: rich<14,>=10.14.0 in c:\\users\\mojos\\anaconda3\\envs\\venv_nycbikes\\lib\\site-packages (from streamlit>=0.79->streamlit-keplergl) (13.7.1)\n",
      "Requirement already satisfied: tenacity<9,>=8.1.0 in c:\\users\\mojos\\anaconda3\\envs\\venv_nycbikes\\lib\\site-packages (from streamlit>=0.79->streamlit-keplergl) (8.5.0)\n",
      "Requirement already satisfied: toml<2,>=0.10.1 in c:\\users\\mojos\\anaconda3\\envs\\venv_nycbikes\\lib\\site-packages (from streamlit>=0.79->streamlit-keplergl) (0.10.2)\n",
      "Requirement already satisfied: typing-extensions<5,>=4.3.0 in c:\\users\\mojos\\anaconda3\\envs\\venv_nycbikes\\lib\\site-packages (from streamlit>=0.79->streamlit-keplergl) (4.12.2)\n",
      "Requirement already satisfied: gitpython!=3.1.19,<4,>=3.0.7 in c:\\users\\mojos\\anaconda3\\envs\\venv_nycbikes\\lib\\site-packages (from streamlit>=0.79->streamlit-keplergl) (3.1.43)\n",
      "Requirement already satisfied: pydeck<1,>=0.8.0b4 in c:\\users\\mojos\\anaconda3\\envs\\venv_nycbikes\\lib\\site-packages (from streamlit>=0.79->streamlit-keplergl) (0.9.1)\n",
      "Requirement already satisfied: tornado<7,>=6.0.3 in c:\\users\\mojos\\anaconda3\\envs\\venv_nycbikes\\lib\\site-packages (from streamlit>=0.79->streamlit-keplergl) (6.4.1)\n",
      "Requirement already satisfied: watchdog<5,>=2.1.5 in c:\\users\\mojos\\anaconda3\\envs\\venv_nycbikes\\lib\\site-packages (from streamlit>=0.79->streamlit-keplergl) (4.0.2)\n",
      "Requirement already satisfied: ipywidgets<8,>=7.0.0 in c:\\users\\mojos\\anaconda3\\envs\\venv_nycbikes\\lib\\site-packages (from keplergl->streamlit-keplergl) (7.8.3)\n",
      "Requirement already satisfied: traittypes>=0.2.1 in c:\\users\\mojos\\anaconda3\\envs\\venv_nycbikes\\lib\\site-packages (from keplergl->streamlit-keplergl) (0.2.1)\n",
      "Requirement already satisfied: geopandas>=0.5.0 in c:\\users\\mojos\\anaconda3\\envs\\venv_nycbikes\\lib\\site-packages (from keplergl->streamlit-keplergl) (1.0.1)\n",
      "Requirement already satisfied: Shapely>=1.6.4.post2 in c:\\users\\mojos\\anaconda3\\envs\\venv_nycbikes\\lib\\site-packages (from keplergl->streamlit-keplergl) (2.0.5)\n",
      "Requirement already satisfied: jinja2 in c:\\users\\mojos\\anaconda3\\envs\\venv_nycbikes\\lib\\site-packages (from altair<6,>=4.0->streamlit>=0.79->streamlit-keplergl) (3.1.4)\n",
      "Requirement already satisfied: jsonschema>=3.0 in c:\\users\\mojos\\anaconda3\\envs\\venv_nycbikes\\lib\\site-packages (from altair<6,>=4.0->streamlit>=0.79->streamlit-keplergl) (4.23.0)\n",
      "Requirement already satisfied: narwhals>=1.1.0 in c:\\users\\mojos\\anaconda3\\envs\\venv_nycbikes\\lib\\site-packages (from altair<6,>=4.0->streamlit>=0.79->streamlit-keplergl) (1.5.5)\n",
      "Requirement already satisfied: colorama in c:\\users\\mojos\\anaconda3\\envs\\venv_nycbikes\\lib\\site-packages (from click<9,>=7.0->streamlit>=0.79->streamlit-keplergl) (0.4.6)\n",
      "Requirement already satisfied: pyogrio>=0.7.2 in c:\\users\\mojos\\anaconda3\\envs\\venv_nycbikes\\lib\\site-packages (from geopandas>=0.5.0->keplergl->streamlit-keplergl) (0.9.0)\n",
      "Requirement already satisfied: pyproj>=3.3.0 in c:\\users\\mojos\\anaconda3\\envs\\venv_nycbikes\\lib\\site-packages (from geopandas>=0.5.0->keplergl->streamlit-keplergl) (3.6.1)\n",
      "Requirement already satisfied: gitdb<5,>=4.0.1 in c:\\users\\mojos\\anaconda3\\envs\\venv_nycbikes\\lib\\site-packages (from gitpython!=3.1.19,<4,>=3.0.7->streamlit>=0.79->streamlit-keplergl) (4.0.11)\n",
      "Requirement already satisfied: comm>=0.1.3 in c:\\users\\mojos\\anaconda3\\envs\\venv_nycbikes\\lib\\site-packages (from ipywidgets<8,>=7.0.0->keplergl->streamlit-keplergl) (0.2.2)\n",
      "Requirement already satisfied: ipython-genutils~=0.2.0 in c:\\users\\mojos\\anaconda3\\envs\\venv_nycbikes\\lib\\site-packages (from ipywidgets<8,>=7.0.0->keplergl->streamlit-keplergl) (0.2.0)\n",
      "Requirement already satisfied: traitlets>=4.3.1 in c:\\users\\mojos\\anaconda3\\envs\\venv_nycbikes\\lib\\site-packages (from ipywidgets<8,>=7.0.0->keplergl->streamlit-keplergl) (5.14.3)\n",
      "Requirement already satisfied: widgetsnbextension~=3.6.8 in c:\\users\\mojos\\anaconda3\\envs\\venv_nycbikes\\lib\\site-packages (from ipywidgets<8,>=7.0.0->keplergl->streamlit-keplergl) (3.6.8)\n",
      "Requirement already satisfied: ipython>=4.0.0 in c:\\users\\mojos\\anaconda3\\envs\\venv_nycbikes\\lib\\site-packages (from ipywidgets<8,>=7.0.0->keplergl->streamlit-keplergl) (8.26.0)\n",
      "Requirement already satisfied: jupyterlab-widgets<3,>=1.0.0 in c:\\users\\mojos\\anaconda3\\envs\\venv_nycbikes\\lib\\site-packages (from ipywidgets<8,>=7.0.0->keplergl->streamlit-keplergl) (1.1.9)\n",
      "Requirement already satisfied: python-dateutil>=2.8.2 in c:\\users\\mojos\\anaconda3\\envs\\venv_nycbikes\\lib\\site-packages (from pandas<3,>=1.3.0->streamlit>=0.79->streamlit-keplergl) (2.9.0.post0)\n",
      "Requirement already satisfied: pytz>=2020.1 in c:\\users\\mojos\\anaconda3\\envs\\venv_nycbikes\\lib\\site-packages (from pandas<3,>=1.3.0->streamlit>=0.79->streamlit-keplergl) (2024.1)\n",
      "Requirement already satisfied: tzdata>=2022.7 in c:\\users\\mojos\\anaconda3\\envs\\venv_nycbikes\\lib\\site-packages (from pandas<3,>=1.3.0->streamlit>=0.79->streamlit-keplergl) (2024.1)\n",
      "Requirement already satisfied: charset-normalizer<4,>=2 in c:\\users\\mojos\\anaconda3\\envs\\venv_nycbikes\\lib\\site-packages (from requests<3,>=2.27->streamlit>=0.79->streamlit-keplergl) (3.3.2)\n",
      "Requirement already satisfied: idna<4,>=2.5 in c:\\users\\mojos\\anaconda3\\envs\\venv_nycbikes\\lib\\site-packages (from requests<3,>=2.27->streamlit>=0.79->streamlit-keplergl) (3.7)\n",
      "Requirement already satisfied: urllib3<3,>=1.21.1 in c:\\users\\mojos\\anaconda3\\envs\\venv_nycbikes\\lib\\site-packages (from requests<3,>=2.27->streamlit>=0.79->streamlit-keplergl) (2.2.2)\n",
      "Requirement already satisfied: certifi>=2017.4.17 in c:\\users\\mojos\\anaconda3\\envs\\venv_nycbikes\\lib\\site-packages (from requests<3,>=2.27->streamlit>=0.79->streamlit-keplergl) (2024.7.4)\n",
      "Requirement already satisfied: markdown-it-py>=2.2.0 in c:\\users\\mojos\\anaconda3\\envs\\venv_nycbikes\\lib\\site-packages (from rich<14,>=10.14.0->streamlit>=0.79->streamlit-keplergl) (3.0.0)\n",
      "Requirement already satisfied: pygments<3.0.0,>=2.13.0 in c:\\users\\mojos\\anaconda3\\envs\\venv_nycbikes\\lib\\site-packages (from rich<14,>=10.14.0->streamlit>=0.79->streamlit-keplergl) (2.18.0)\n",
      "Requirement already satisfied: smmap<6,>=3.0.1 in c:\\users\\mojos\\anaconda3\\envs\\venv_nycbikes\\lib\\site-packages (from gitdb<5,>=4.0.1->gitpython!=3.1.19,<4,>=3.0.7->streamlit>=0.79->streamlit-keplergl) (5.0.1)\n",
      "Requirement already satisfied: decorator in c:\\users\\mojos\\anaconda3\\envs\\venv_nycbikes\\lib\\site-packages (from ipython>=4.0.0->ipywidgets<8,>=7.0.0->keplergl->streamlit-keplergl) (5.1.1)\n",
      "Requirement already satisfied: jedi>=0.16 in c:\\users\\mojos\\anaconda3\\envs\\venv_nycbikes\\lib\\site-packages (from ipython>=4.0.0->ipywidgets<8,>=7.0.0->keplergl->streamlit-keplergl) (0.19.1)\n",
      "Requirement already satisfied: matplotlib-inline in c:\\users\\mojos\\anaconda3\\envs\\venv_nycbikes\\lib\\site-packages (from ipython>=4.0.0->ipywidgets<8,>=7.0.0->keplergl->streamlit-keplergl) (0.1.7)\n",
      "Requirement already satisfied: prompt-toolkit<3.1.0,>=3.0.41 in c:\\users\\mojos\\anaconda3\\envs\\venv_nycbikes\\lib\\site-packages (from ipython>=4.0.0->ipywidgets<8,>=7.0.0->keplergl->streamlit-keplergl) (3.0.47)\n",
      "Requirement already satisfied: stack-data in c:\\users\\mojos\\anaconda3\\envs\\venv_nycbikes\\lib\\site-packages (from ipython>=4.0.0->ipywidgets<8,>=7.0.0->keplergl->streamlit-keplergl) (0.6.3)\n",
      "Requirement already satisfied: MarkupSafe>=2.0 in c:\\users\\mojos\\anaconda3\\envs\\venv_nycbikes\\lib\\site-packages (from jinja2->altair<6,>=4.0->streamlit>=0.79->streamlit-keplergl) (2.1.5)\n",
      "Requirement already satisfied: attrs>=22.2.0 in c:\\users\\mojos\\anaconda3\\envs\\venv_nycbikes\\lib\\site-packages (from jsonschema>=3.0->altair<6,>=4.0->streamlit>=0.79->streamlit-keplergl) (24.2.0)\n",
      "Requirement already satisfied: jsonschema-specifications>=2023.03.6 in c:\\users\\mojos\\anaconda3\\envs\\venv_nycbikes\\lib\\site-packages (from jsonschema>=3.0->altair<6,>=4.0->streamlit>=0.79->streamlit-keplergl) (2023.12.1)\n",
      "Requirement already satisfied: referencing>=0.28.4 in c:\\users\\mojos\\anaconda3\\envs\\venv_nycbikes\\lib\\site-packages (from jsonschema>=3.0->altair<6,>=4.0->streamlit>=0.79->streamlit-keplergl) (0.35.1)\n",
      "Requirement already satisfied: rpds-py>=0.7.1 in c:\\users\\mojos\\anaconda3\\envs\\venv_nycbikes\\lib\\site-packages (from jsonschema>=3.0->altair<6,>=4.0->streamlit>=0.79->streamlit-keplergl) (0.20.0)\n",
      "Requirement already satisfied: mdurl~=0.1 in c:\\users\\mojos\\anaconda3\\envs\\venv_nycbikes\\lib\\site-packages (from markdown-it-py>=2.2.0->rich<14,>=10.14.0->streamlit>=0.79->streamlit-keplergl) (0.1.2)\n",
      "Requirement already satisfied: six>=1.5 in c:\\users\\mojos\\anaconda3\\envs\\venv_nycbikes\\lib\\site-packages (from python-dateutil>=2.8.2->pandas<3,>=1.3.0->streamlit>=0.79->streamlit-keplergl) (1.16.0)\n",
      "Requirement already satisfied: notebook>=4.4.1 in c:\\users\\mojos\\anaconda3\\envs\\venv_nycbikes\\lib\\site-packages (from widgetsnbextension~=3.6.8->ipywidgets<8,>=7.0.0->keplergl->streamlit-keplergl) (7.2.1)\n",
      "Requirement already satisfied: parso<0.9.0,>=0.8.3 in c:\\users\\mojos\\anaconda3\\envs\\venv_nycbikes\\lib\\site-packages (from jedi>=0.16->ipython>=4.0.0->ipywidgets<8,>=7.0.0->keplergl->streamlit-keplergl) (0.8.4)\n",
      "Requirement already satisfied: jupyter-server<3,>=2.4.0 in c:\\users\\mojos\\anaconda3\\envs\\venv_nycbikes\\lib\\site-packages (from notebook>=4.4.1->widgetsnbextension~=3.6.8->ipywidgets<8,>=7.0.0->keplergl->streamlit-keplergl) (2.14.2)\n",
      "Requirement already satisfied: jupyterlab-server<3,>=2.27.1 in c:\\users\\mojos\\anaconda3\\envs\\venv_nycbikes\\lib\\site-packages (from notebook>=4.4.1->widgetsnbextension~=3.6.8->ipywidgets<8,>=7.0.0->keplergl->streamlit-keplergl) (2.27.3)\n",
      "Requirement already satisfied: jupyterlab<4.3,>=4.2.0 in c:\\users\\mojos\\anaconda3\\envs\\venv_nycbikes\\lib\\site-packages (from notebook>=4.4.1->widgetsnbextension~=3.6.8->ipywidgets<8,>=7.0.0->keplergl->streamlit-keplergl) (4.2.4)\n",
      "Requirement already satisfied: notebook-shim<0.3,>=0.2 in c:\\users\\mojos\\anaconda3\\envs\\venv_nycbikes\\lib\\site-packages (from notebook>=4.4.1->widgetsnbextension~=3.6.8->ipywidgets<8,>=7.0.0->keplergl->streamlit-keplergl) (0.2.4)\n",
      "Requirement already satisfied: wcwidth in c:\\users\\mojos\\anaconda3\\envs\\venv_nycbikes\\lib\\site-packages (from prompt-toolkit<3.1.0,>=3.0.41->ipython>=4.0.0->ipywidgets<8,>=7.0.0->keplergl->streamlit-keplergl) (0.2.13)\n",
      "Requirement already satisfied: executing>=1.2.0 in c:\\users\\mojos\\anaconda3\\envs\\venv_nycbikes\\lib\\site-packages (from stack-data->ipython>=4.0.0->ipywidgets<8,>=7.0.0->keplergl->streamlit-keplergl) (2.0.1)\n",
      "Requirement already satisfied: asttokens>=2.1.0 in c:\\users\\mojos\\anaconda3\\envs\\venv_nycbikes\\lib\\site-packages (from stack-data->ipython>=4.0.0->ipywidgets<8,>=7.0.0->keplergl->streamlit-keplergl) (2.4.1)\n",
      "Requirement already satisfied: pure-eval in c:\\users\\mojos\\anaconda3\\envs\\venv_nycbikes\\lib\\site-packages (from stack-data->ipython>=4.0.0->ipywidgets<8,>=7.0.0->keplergl->streamlit-keplergl) (0.2.3)\n",
      "Requirement already satisfied: anyio>=3.1.0 in c:\\users\\mojos\\anaconda3\\envs\\venv_nycbikes\\lib\\site-packages (from jupyter-server<3,>=2.4.0->notebook>=4.4.1->widgetsnbextension~=3.6.8->ipywidgets<8,>=7.0.0->keplergl->streamlit-keplergl) (4.4.0)\n",
      "Requirement already satisfied: argon2-cffi>=21.1 in c:\\users\\mojos\\anaconda3\\envs\\venv_nycbikes\\lib\\site-packages (from jupyter-server<3,>=2.4.0->notebook>=4.4.1->widgetsnbextension~=3.6.8->ipywidgets<8,>=7.0.0->keplergl->streamlit-keplergl) (23.1.0)\n",
      "Requirement already satisfied: jupyter-client>=7.4.4 in c:\\users\\mojos\\anaconda3\\envs\\venv_nycbikes\\lib\\site-packages (from jupyter-server<3,>=2.4.0->notebook>=4.4.1->widgetsnbextension~=3.6.8->ipywidgets<8,>=7.0.0->keplergl->streamlit-keplergl) (8.6.2)\n",
      "Requirement already satisfied: jupyter-core!=5.0.*,>=4.12 in c:\\users\\mojos\\anaconda3\\envs\\venv_nycbikes\\lib\\site-packages (from jupyter-server<3,>=2.4.0->notebook>=4.4.1->widgetsnbextension~=3.6.8->ipywidgets<8,>=7.0.0->keplergl->streamlit-keplergl) (5.7.2)\n",
      "Requirement already satisfied: jupyter-events>=0.9.0 in c:\\users\\mojos\\anaconda3\\envs\\venv_nycbikes\\lib\\site-packages (from jupyter-server<3,>=2.4.0->notebook>=4.4.1->widgetsnbextension~=3.6.8->ipywidgets<8,>=7.0.0->keplergl->streamlit-keplergl) (0.10.0)\n",
      "Requirement already satisfied: jupyter-server-terminals>=0.4.4 in c:\\users\\mojos\\anaconda3\\envs\\venv_nycbikes\\lib\\site-packages (from jupyter-server<3,>=2.4.0->notebook>=4.4.1->widgetsnbextension~=3.6.8->ipywidgets<8,>=7.0.0->keplergl->streamlit-keplergl) (0.5.3)\n",
      "Requirement already satisfied: nbconvert>=6.4.4 in c:\\users\\mojos\\anaconda3\\envs\\venv_nycbikes\\lib\\site-packages (from jupyter-server<3,>=2.4.0->notebook>=4.4.1->widgetsnbextension~=3.6.8->ipywidgets<8,>=7.0.0->keplergl->streamlit-keplergl) (7.16.4)\n",
      "Requirement already satisfied: nbformat>=5.3.0 in c:\\users\\mojos\\anaconda3\\envs\\venv_nycbikes\\lib\\site-packages (from jupyter-server<3,>=2.4.0->notebook>=4.4.1->widgetsnbextension~=3.6.8->ipywidgets<8,>=7.0.0->keplergl->streamlit-keplergl) (5.10.4)\n",
      "Requirement already satisfied: overrides>=5.0 in c:\\users\\mojos\\anaconda3\\envs\\venv_nycbikes\\lib\\site-packages (from jupyter-server<3,>=2.4.0->notebook>=4.4.1->widgetsnbextension~=3.6.8->ipywidgets<8,>=7.0.0->keplergl->streamlit-keplergl) (7.7.0)\n",
      "Requirement already satisfied: prometheus-client>=0.9 in c:\\users\\mojos\\anaconda3\\envs\\venv_nycbikes\\lib\\site-packages (from jupyter-server<3,>=2.4.0->notebook>=4.4.1->widgetsnbextension~=3.6.8->ipywidgets<8,>=7.0.0->keplergl->streamlit-keplergl) (0.20.0)\n",
      "Requirement already satisfied: pywinpty>=2.0.1 in c:\\users\\mojos\\anaconda3\\envs\\venv_nycbikes\\lib\\site-packages (from jupyter-server<3,>=2.4.0->notebook>=4.4.1->widgetsnbextension~=3.6.8->ipywidgets<8,>=7.0.0->keplergl->streamlit-keplergl) (2.0.13)\n",
      "Requirement already satisfied: pyzmq>=24 in c:\\users\\mojos\\anaconda3\\envs\\venv_nycbikes\\lib\\site-packages (from jupyter-server<3,>=2.4.0->notebook>=4.4.1->widgetsnbextension~=3.6.8->ipywidgets<8,>=7.0.0->keplergl->streamlit-keplergl) (26.1.0)\n",
      "Requirement already satisfied: send2trash>=1.8.2 in c:\\users\\mojos\\anaconda3\\envs\\venv_nycbikes\\lib\\site-packages (from jupyter-server<3,>=2.4.0->notebook>=4.4.1->widgetsnbextension~=3.6.8->ipywidgets<8,>=7.0.0->keplergl->streamlit-keplergl) (1.8.3)\n",
      "Requirement already satisfied: terminado>=0.8.3 in c:\\users\\mojos\\anaconda3\\envs\\venv_nycbikes\\lib\\site-packages (from jupyter-server<3,>=2.4.0->notebook>=4.4.1->widgetsnbextension~=3.6.8->ipywidgets<8,>=7.0.0->keplergl->streamlit-keplergl) (0.18.1)\n",
      "Requirement already satisfied: websocket-client>=1.7 in c:\\users\\mojos\\anaconda3\\envs\\venv_nycbikes\\lib\\site-packages (from jupyter-server<3,>=2.4.0->notebook>=4.4.1->widgetsnbextension~=3.6.8->ipywidgets<8,>=7.0.0->keplergl->streamlit-keplergl) (1.8.0)\n",
      "Requirement already satisfied: async-lru>=1.0.0 in c:\\users\\mojos\\anaconda3\\envs\\venv_nycbikes\\lib\\site-packages (from jupyterlab<4.3,>=4.2.0->notebook>=4.4.1->widgetsnbextension~=3.6.8->ipywidgets<8,>=7.0.0->keplergl->streamlit-keplergl) (2.0.4)\n",
      "Requirement already satisfied: httpx>=0.25.0 in c:\\users\\mojos\\anaconda3\\envs\\venv_nycbikes\\lib\\site-packages (from jupyterlab<4.3,>=4.2.0->notebook>=4.4.1->widgetsnbextension~=3.6.8->ipywidgets<8,>=7.0.0->keplergl->streamlit-keplergl) (0.27.0)\n",
      "Requirement already satisfied: ipykernel>=6.5.0 in c:\\users\\mojos\\anaconda3\\envs\\venv_nycbikes\\lib\\site-packages (from jupyterlab<4.3,>=4.2.0->notebook>=4.4.1->widgetsnbextension~=3.6.8->ipywidgets<8,>=7.0.0->keplergl->streamlit-keplergl) (6.29.5)\n",
      "Requirement already satisfied: jupyter-lsp>=2.0.0 in c:\\users\\mojos\\anaconda3\\envs\\venv_nycbikes\\lib\\site-packages (from jupyterlab<4.3,>=4.2.0->notebook>=4.4.1->widgetsnbextension~=3.6.8->ipywidgets<8,>=7.0.0->keplergl->streamlit-keplergl) (2.2.5)\n",
      "Requirement already satisfied: setuptools>=40.1.0 in c:\\users\\mojos\\anaconda3\\envs\\venv_nycbikes\\lib\\site-packages (from jupyterlab<4.3,>=4.2.0->notebook>=4.4.1->widgetsnbextension~=3.6.8->ipywidgets<8,>=7.0.0->keplergl->streamlit-keplergl) (72.1.0)\n",
      "Requirement already satisfied: babel>=2.10 in c:\\users\\mojos\\anaconda3\\envs\\venv_nycbikes\\lib\\site-packages (from jupyterlab-server<3,>=2.27.1->notebook>=4.4.1->widgetsnbextension~=3.6.8->ipywidgets<8,>=7.0.0->keplergl->streamlit-keplergl) (2.15.0)\n",
      "Requirement already satisfied: json5>=0.9.0 in c:\\users\\mojos\\anaconda3\\envs\\venv_nycbikes\\lib\\site-packages (from jupyterlab-server<3,>=2.27.1->notebook>=4.4.1->widgetsnbextension~=3.6.8->ipywidgets<8,>=7.0.0->keplergl->streamlit-keplergl) (0.9.25)\n",
      "Requirement already satisfied: sniffio>=1.1 in c:\\users\\mojos\\anaconda3\\envs\\venv_nycbikes\\lib\\site-packages (from anyio>=3.1.0->jupyter-server<3,>=2.4.0->notebook>=4.4.1->widgetsnbextension~=3.6.8->ipywidgets<8,>=7.0.0->keplergl->streamlit-keplergl) (1.3.1)\n",
      "Requirement already satisfied: argon2-cffi-bindings in c:\\users\\mojos\\anaconda3\\envs\\venv_nycbikes\\lib\\site-packages (from argon2-cffi>=21.1->jupyter-server<3,>=2.4.0->notebook>=4.4.1->widgetsnbextension~=3.6.8->ipywidgets<8,>=7.0.0->keplergl->streamlit-keplergl) (21.2.0)\n",
      "Requirement already satisfied: httpcore==1.* in c:\\users\\mojos\\anaconda3\\envs\\venv_nycbikes\\lib\\site-packages (from httpx>=0.25.0->jupyterlab<4.3,>=4.2.0->notebook>=4.4.1->widgetsnbextension~=3.6.8->ipywidgets<8,>=7.0.0->keplergl->streamlit-keplergl) (1.0.5)\n",
      "Requirement already satisfied: h11<0.15,>=0.13 in c:\\users\\mojos\\anaconda3\\envs\\venv_nycbikes\\lib\\site-packages (from httpcore==1.*->httpx>=0.25.0->jupyterlab<4.3,>=4.2.0->notebook>=4.4.1->widgetsnbextension~=3.6.8->ipywidgets<8,>=7.0.0->keplergl->streamlit-keplergl) (0.14.0)\n",
      "Requirement already satisfied: debugpy>=1.6.5 in c:\\users\\mojos\\anaconda3\\envs\\venv_nycbikes\\lib\\site-packages (from ipykernel>=6.5.0->jupyterlab<4.3,>=4.2.0->notebook>=4.4.1->widgetsnbextension~=3.6.8->ipywidgets<8,>=7.0.0->keplergl->streamlit-keplergl) (1.8.5)\n",
      "Requirement already satisfied: nest-asyncio in c:\\users\\mojos\\anaconda3\\envs\\venv_nycbikes\\lib\\site-packages (from ipykernel>=6.5.0->jupyterlab<4.3,>=4.2.0->notebook>=4.4.1->widgetsnbextension~=3.6.8->ipywidgets<8,>=7.0.0->keplergl->streamlit-keplergl) (1.6.0)\n",
      "Requirement already satisfied: psutil in c:\\users\\mojos\\anaconda3\\envs\\venv_nycbikes\\lib\\site-packages (from ipykernel>=6.5.0->jupyterlab<4.3,>=4.2.0->notebook>=4.4.1->widgetsnbextension~=3.6.8->ipywidgets<8,>=7.0.0->keplergl->streamlit-keplergl) (6.0.0)\n",
      "Requirement already satisfied: platformdirs>=2.5 in c:\\users\\mojos\\anaconda3\\envs\\venv_nycbikes\\lib\\site-packages (from jupyter-core!=5.0.*,>=4.12->jupyter-server<3,>=2.4.0->notebook>=4.4.1->widgetsnbextension~=3.6.8->ipywidgets<8,>=7.0.0->keplergl->streamlit-keplergl) (4.2.2)\n",
      "Requirement already satisfied: pywin32>=300 in c:\\users\\mojos\\anaconda3\\envs\\venv_nycbikes\\lib\\site-packages (from jupyter-core!=5.0.*,>=4.12->jupyter-server<3,>=2.4.0->notebook>=4.4.1->widgetsnbextension~=3.6.8->ipywidgets<8,>=7.0.0->keplergl->streamlit-keplergl) (306)\n",
      "Requirement already satisfied: python-json-logger>=2.0.4 in c:\\users\\mojos\\anaconda3\\envs\\venv_nycbikes\\lib\\site-packages (from jupyter-events>=0.9.0->jupyter-server<3,>=2.4.0->notebook>=4.4.1->widgetsnbextension~=3.6.8->ipywidgets<8,>=7.0.0->keplergl->streamlit-keplergl) (2.0.7)\n",
      "Requirement already satisfied: pyyaml>=5.3 in c:\\users\\mojos\\anaconda3\\envs\\venv_nycbikes\\lib\\site-packages (from jupyter-events>=0.9.0->jupyter-server<3,>=2.4.0->notebook>=4.4.1->widgetsnbextension~=3.6.8->ipywidgets<8,>=7.0.0->keplergl->streamlit-keplergl) (6.0.2)\n",
      "Requirement already satisfied: rfc3339-validator in c:\\users\\mojos\\anaconda3\\envs\\venv_nycbikes\\lib\\site-packages (from jupyter-events>=0.9.0->jupyter-server<3,>=2.4.0->notebook>=4.4.1->widgetsnbextension~=3.6.8->ipywidgets<8,>=7.0.0->keplergl->streamlit-keplergl) (0.1.4)\n",
      "Requirement already satisfied: rfc3986-validator>=0.1.1 in c:\\users\\mojos\\anaconda3\\envs\\venv_nycbikes\\lib\\site-packages (from jupyter-events>=0.9.0->jupyter-server<3,>=2.4.0->notebook>=4.4.1->widgetsnbextension~=3.6.8->ipywidgets<8,>=7.0.0->keplergl->streamlit-keplergl) (0.1.1)\n",
      "Requirement already satisfied: beautifulsoup4 in c:\\users\\mojos\\anaconda3\\envs\\venv_nycbikes\\lib\\site-packages (from nbconvert>=6.4.4->jupyter-server<3,>=2.4.0->notebook>=4.4.1->widgetsnbextension~=3.6.8->ipywidgets<8,>=7.0.0->keplergl->streamlit-keplergl) (4.12.3)\n",
      "Requirement already satisfied: bleach!=5.0.0 in c:\\users\\mojos\\anaconda3\\envs\\venv_nycbikes\\lib\\site-packages (from nbconvert>=6.4.4->jupyter-server<3,>=2.4.0->notebook>=4.4.1->widgetsnbextension~=3.6.8->ipywidgets<8,>=7.0.0->keplergl->streamlit-keplergl) (6.1.0)\n",
      "Requirement already satisfied: defusedxml in c:\\users\\mojos\\anaconda3\\envs\\venv_nycbikes\\lib\\site-packages (from nbconvert>=6.4.4->jupyter-server<3,>=2.4.0->notebook>=4.4.1->widgetsnbextension~=3.6.8->ipywidgets<8,>=7.0.0->keplergl->streamlit-keplergl) (0.7.1)\n",
      "Requirement already satisfied: jupyterlab-pygments in c:\\users\\mojos\\anaconda3\\envs\\venv_nycbikes\\lib\\site-packages (from nbconvert>=6.4.4->jupyter-server<3,>=2.4.0->notebook>=4.4.1->widgetsnbextension~=3.6.8->ipywidgets<8,>=7.0.0->keplergl->streamlit-keplergl) (0.3.0)\n",
      "Requirement already satisfied: mistune<4,>=2.0.3 in c:\\users\\mojos\\anaconda3\\envs\\venv_nycbikes\\lib\\site-packages (from nbconvert>=6.4.4->jupyter-server<3,>=2.4.0->notebook>=4.4.1->widgetsnbextension~=3.6.8->ipywidgets<8,>=7.0.0->keplergl->streamlit-keplergl) (3.0.2)\n",
      "Requirement already satisfied: nbclient>=0.5.0 in c:\\users\\mojos\\anaconda3\\envs\\venv_nycbikes\\lib\\site-packages (from nbconvert>=6.4.4->jupyter-server<3,>=2.4.0->notebook>=4.4.1->widgetsnbextension~=3.6.8->ipywidgets<8,>=7.0.0->keplergl->streamlit-keplergl) (0.10.0)\n",
      "Requirement already satisfied: pandocfilters>=1.4.1 in c:\\users\\mojos\\anaconda3\\envs\\venv_nycbikes\\lib\\site-packages (from nbconvert>=6.4.4->jupyter-server<3,>=2.4.0->notebook>=4.4.1->widgetsnbextension~=3.6.8->ipywidgets<8,>=7.0.0->keplergl->streamlit-keplergl) (1.5.1)\n",
      "Requirement already satisfied: tinycss2 in c:\\users\\mojos\\anaconda3\\envs\\venv_nycbikes\\lib\\site-packages (from nbconvert>=6.4.4->jupyter-server<3,>=2.4.0->notebook>=4.4.1->widgetsnbextension~=3.6.8->ipywidgets<8,>=7.0.0->keplergl->streamlit-keplergl) (1.3.0)\n",
      "Requirement already satisfied: fastjsonschema>=2.15 in c:\\users\\mojos\\anaconda3\\envs\\venv_nycbikes\\lib\\site-packages (from nbformat>=5.3.0->jupyter-server<3,>=2.4.0->notebook>=4.4.1->widgetsnbextension~=3.6.8->ipywidgets<8,>=7.0.0->keplergl->streamlit-keplergl) (2.20.0)\n",
      "Requirement already satisfied: webencodings in c:\\users\\mojos\\anaconda3\\envs\\venv_nycbikes\\lib\\site-packages (from bleach!=5.0.0->nbconvert>=6.4.4->jupyter-server<3,>=2.4.0->notebook>=4.4.1->widgetsnbextension~=3.6.8->ipywidgets<8,>=7.0.0->keplergl->streamlit-keplergl) (0.5.1)\n",
      "Requirement already satisfied: fqdn in c:\\users\\mojos\\anaconda3\\envs\\venv_nycbikes\\lib\\site-packages (from jsonschema[format-nongpl]>=4.18.0->jupyter-events>=0.9.0->jupyter-server<3,>=2.4.0->notebook>=4.4.1->widgetsnbextension~=3.6.8->ipywidgets<8,>=7.0.0->keplergl->streamlit-keplergl) (1.5.1)\n",
      "Requirement already satisfied: isoduration in c:\\users\\mojos\\anaconda3\\envs\\venv_nycbikes\\lib\\site-packages (from jsonschema[format-nongpl]>=4.18.0->jupyter-events>=0.9.0->jupyter-server<3,>=2.4.0->notebook>=4.4.1->widgetsnbextension~=3.6.8->ipywidgets<8,>=7.0.0->keplergl->streamlit-keplergl) (20.11.0)\n",
      "Requirement already satisfied: jsonpointer>1.13 in c:\\users\\mojos\\anaconda3\\envs\\venv_nycbikes\\lib\\site-packages (from jsonschema[format-nongpl]>=4.18.0->jupyter-events>=0.9.0->jupyter-server<3,>=2.4.0->notebook>=4.4.1->widgetsnbextension~=3.6.8->ipywidgets<8,>=7.0.0->keplergl->streamlit-keplergl) (3.0.0)\n",
      "Requirement already satisfied: uri-template in c:\\users\\mojos\\anaconda3\\envs\\venv_nycbikes\\lib\\site-packages (from jsonschema[format-nongpl]>=4.18.0->jupyter-events>=0.9.0->jupyter-server<3,>=2.4.0->notebook>=4.4.1->widgetsnbextension~=3.6.8->ipywidgets<8,>=7.0.0->keplergl->streamlit-keplergl) (1.3.0)\n",
      "Requirement already satisfied: webcolors>=24.6.0 in c:\\users\\mojos\\anaconda3\\envs\\venv_nycbikes\\lib\\site-packages (from jsonschema[format-nongpl]>=4.18.0->jupyter-events>=0.9.0->jupyter-server<3,>=2.4.0->notebook>=4.4.1->widgetsnbextension~=3.6.8->ipywidgets<8,>=7.0.0->keplergl->streamlit-keplergl) (24.6.0)\n",
      "Requirement already satisfied: cffi>=1.0.1 in c:\\users\\mojos\\anaconda3\\envs\\venv_nycbikes\\lib\\site-packages (from argon2-cffi-bindings->argon2-cffi>=21.1->jupyter-server<3,>=2.4.0->notebook>=4.4.1->widgetsnbextension~=3.6.8->ipywidgets<8,>=7.0.0->keplergl->streamlit-keplergl) (1.17.0)\n",
      "Requirement already satisfied: soupsieve>1.2 in c:\\users\\mojos\\anaconda3\\envs\\venv_nycbikes\\lib\\site-packages (from beautifulsoup4->nbconvert>=6.4.4->jupyter-server<3,>=2.4.0->notebook>=4.4.1->widgetsnbextension~=3.6.8->ipywidgets<8,>=7.0.0->keplergl->streamlit-keplergl) (2.5)\n",
      "Requirement already satisfied: pycparser in c:\\users\\mojos\\anaconda3\\envs\\venv_nycbikes\\lib\\site-packages (from cffi>=1.0.1->argon2-cffi-bindings->argon2-cffi>=21.1->jupyter-server<3,>=2.4.0->notebook>=4.4.1->widgetsnbextension~=3.6.8->ipywidgets<8,>=7.0.0->keplergl->streamlit-keplergl) (2.22)\n",
      "Requirement already satisfied: arrow>=0.15.0 in c:\\users\\mojos\\anaconda3\\envs\\venv_nycbikes\\lib\\site-packages (from isoduration->jsonschema[format-nongpl]>=4.18.0->jupyter-events>=0.9.0->jupyter-server<3,>=2.4.0->notebook>=4.4.1->widgetsnbextension~=3.6.8->ipywidgets<8,>=7.0.0->keplergl->streamlit-keplergl) (1.3.0)\n",
      "Requirement already satisfied: types-python-dateutil>=2.8.10 in c:\\users\\mojos\\anaconda3\\envs\\venv_nycbikes\\lib\\site-packages (from arrow>=0.15.0->isoduration->jsonschema[format-nongpl]>=4.18.0->jupyter-events>=0.9.0->jupyter-server<3,>=2.4.0->notebook>=4.4.1->widgetsnbextension~=3.6.8->ipywidgets<8,>=7.0.0->keplergl->streamlit-keplergl) (2.9.0.20240316)\n"
     ]
    }
   ],
   "source": [
    "!pip install streamlit \n",
    "!pip install plotly\n",
    "!pip install streamlit-keplergl\n",
    "\n",
    "import streamlit as st\n",
    "import pandas as pd\n",
    "import numpy as np\n",
    "import plotly.express as px\n",
    "from plotly.subplots import make_subplots\n",
    "import plotly.graph_objects as go\n",
    "import matplotlib.pyplot as plt\n",
    "from datetime import datetime as dt\n",
    "from streamlit_keplergl import keplergl_static"
   ]
  },
  {
   "cell_type": "code",
   "execution_count": 2,
   "id": "1d25eac2-c31c-4195-be40-51deebc6e5e0",
   "metadata": {},
   "outputs": [
    {
     "name": "stderr",
     "output_type": "stream",
     "text": [
      "C:\\Users\\mojos\\AppData\\Local\\Temp\\ipykernel_7828\\3433673912.py:1: DtypeWarning: Columns (6,8) have mixed types. Specify dtype option on import or set low_memory=False.\n",
      "  df = pd.read_csv('nyc_bikes_dist.csv', index_col = 0)\n"
     ]
    }
   ],
   "source": [
    "df = pd.read_csv('nyc_bikes_dist.csv', index_col = 0)"
   ]
  },
  {
   "cell_type": "code",
   "execution_count": 3,
   "id": "4e47ee0c-8771-46c0-ac08-bc46c5585a62",
   "metadata": {},
   "outputs": [
    {
     "data": {
      "text/plain": [
       "ride_id                object\n",
       "rideable_type          object\n",
       "started_at             object\n",
       "ended_at               object\n",
       "start_station_name     object\n",
       "start_station_id       object\n",
       "end_station_name       object\n",
       "end_station_id         object\n",
       "start_lat             float64\n",
       "start_lng             float64\n",
       "end_lat               float64\n",
       "end_lng               float64\n",
       "member_casual          object\n",
       "start_time             object\n",
       "date                   object\n",
       "avgTemp               float64\n",
       "bike_rides_daily        int64\n",
       "trip_time             float64\n",
       "trip_dist_km          float64\n",
       "_merge                 object\n",
       "value                   int64\n",
       "dtype: object"
      ]
     },
     "execution_count": 3,
     "metadata": {},
     "output_type": "execute_result"
    }
   ],
   "source": [
    "df.dtypes"
   ]
  },
  {
   "cell_type": "code",
   "execution_count": 4,
   "id": "ffd7d33d-187c-4a03-ad82-c22bd855048a",
   "metadata": {
    "tags": []
   },
   "outputs": [],
   "source": [
    "df = df.drop(columns=['_merge'])"
   ]
  },
  {
   "cell_type": "code",
   "execution_count": 5,
   "id": "0cb9f30f-5eda-4d0a-a324-d9387ae725b8",
   "metadata": {},
   "outputs": [],
   "source": [
    "# Create a month column \n",
    "\n",
    "df['date'] = pd.to_datetime(df['date'], format = '%Y-%m-%d')\n",
    "df['month'] = df['date'].dt.month\n",
    "df['month'] = df['month'].astype('int')"
   ]
  },
  {
   "cell_type": "code",
   "execution_count": 6,
   "id": "a42189d6-a17d-44e2-9f30-146c97534718",
   "metadata": {
    "tags": []
   },
   "outputs": [],
   "source": [
    "# Create the season column\n",
    "\n",
    "df['season'] = [\n",
    "\"winter\" if (month == 12 or 1 <= month <= 4)\n",
    "    else \"spring\" if (4 < month <= 5)\n",
    "    else \"summer\" if (6 <= month <= 9)\n",
    "    else \"fall\"\n",
    "for month in df['month']\n",
    "    ]"
   ]
  },
  {
   "cell_type": "code",
   "execution_count": 7,
   "id": "99e1d860-11c7-4106-a58f-d5c67cd3d833",
   "metadata": {},
   "outputs": [
    {
     "data": {
      "text/plain": [
       "(30689921, 22)"
      ]
     },
     "execution_count": 7,
     "metadata": {},
     "output_type": "execute_result"
    }
   ],
   "source": [
    "df.shape"
   ]
  },
  {
   "cell_type": "code",
   "execution_count": 8,
   "id": "a1f8da14-511a-4b0d-b014-c9a5f64be148",
   "metadata": {},
   "outputs": [
    {
     "data": {
      "text/plain": [
       "Index(['ride_id', 'rideable_type', 'started_at', 'ended_at',\n",
       "       'start_station_name', 'start_station_id', 'end_station_name',\n",
       "       'end_station_id', 'start_lat', 'start_lng', 'end_lat', 'end_lng',\n",
       "       'member_casual', 'start_time', 'date', 'avgTemp', 'bike_rides_daily',\n",
       "       'trip_time', 'trip_dist_km', 'value', 'month', 'season'],\n",
       "      dtype='object')"
      ]
     },
     "execution_count": 8,
     "metadata": {},
     "output_type": "execute_result"
    }
   ],
   "source": [
    "df.columns"
   ]
  },
  {
   "cell_type": "code",
   "execution_count": 9,
   "id": "976d4e7d-df58-4448-9677-dfaad1441fe2",
   "metadata": {
    "tags": []
   },
   "outputs": [
    {
     "data": {
      "text/html": [
       "<div>\n",
       "<style scoped>\n",
       "    .dataframe tbody tr th:only-of-type {\n",
       "        vertical-align: middle;\n",
       "    }\n",
       "\n",
       "    .dataframe tbody tr th {\n",
       "        vertical-align: top;\n",
       "    }\n",
       "\n",
       "    .dataframe thead th {\n",
       "        text-align: right;\n",
       "    }\n",
       "</style>\n",
       "<table border=\"1\" class=\"dataframe\">\n",
       "  <thead>\n",
       "    <tr style=\"text-align: right;\">\n",
       "      <th></th>\n",
       "      <th>ride_id</th>\n",
       "      <th>rideable_type</th>\n",
       "      <th>started_at</th>\n",
       "      <th>ended_at</th>\n",
       "      <th>start_station_name</th>\n",
       "      <th>start_station_id</th>\n",
       "      <th>end_station_name</th>\n",
       "      <th>end_station_id</th>\n",
       "      <th>start_lat</th>\n",
       "      <th>start_lng</th>\n",
       "      <th>...</th>\n",
       "      <th>member_casual</th>\n",
       "      <th>start_time</th>\n",
       "      <th>date</th>\n",
       "      <th>avgTemp</th>\n",
       "      <th>bike_rides_daily</th>\n",
       "      <th>trip_time</th>\n",
       "      <th>trip_dist_km</th>\n",
       "      <th>value</th>\n",
       "      <th>month</th>\n",
       "      <th>season</th>\n",
       "    </tr>\n",
       "  </thead>\n",
       "  <tbody>\n",
       "    <tr>\n",
       "      <th>0</th>\n",
       "      <td>68FDAB9B6656A4DF</td>\n",
       "      <td>classic_bike</td>\n",
       "      <td>2022-01-01 05:11:08</td>\n",
       "      <td>2022-01-01 05:15:25</td>\n",
       "      <td>W 21 St &amp; 6 Ave</td>\n",
       "      <td>6140.05</td>\n",
       "      <td>W 11 St &amp; 6 Ave</td>\n",
       "      <td>5914.03</td>\n",
       "      <td>40.741740</td>\n",
       "      <td>-73.994156</td>\n",
       "      <td>...</td>\n",
       "      <td>member</td>\n",
       "      <td>2022-01-01 05:11:08</td>\n",
       "      <td>2022-01-01</td>\n",
       "      <td>11.6</td>\n",
       "      <td>20895</td>\n",
       "      <td>4.0</td>\n",
       "      <td>0.783088</td>\n",
       "      <td>1</td>\n",
       "      <td>1</td>\n",
       "      <td>winter</td>\n",
       "    </tr>\n",
       "    <tr>\n",
       "      <th>1</th>\n",
       "      <td>91C955306D2CF8A6</td>\n",
       "      <td>electric_bike</td>\n",
       "      <td>2022-01-01 20:54:00</td>\n",
       "      <td>2022-01-01 21:06:39</td>\n",
       "      <td>Bedford Ave &amp; Nassau Ave</td>\n",
       "      <td>5550.05</td>\n",
       "      <td>Sharon St &amp; Olive St</td>\n",
       "      <td>5323.05</td>\n",
       "      <td>40.723117</td>\n",
       "      <td>-73.952123</td>\n",
       "      <td>...</td>\n",
       "      <td>member</td>\n",
       "      <td>2022-01-01 20:54:00</td>\n",
       "      <td>2022-01-01</td>\n",
       "      <td>11.6</td>\n",
       "      <td>20895</td>\n",
       "      <td>13.0</td>\n",
       "      <td>1.434057</td>\n",
       "      <td>1</td>\n",
       "      <td>1</td>\n",
       "      <td>winter</td>\n",
       "    </tr>\n",
       "    <tr>\n",
       "      <th>2</th>\n",
       "      <td>B379B77AEB677F2A</td>\n",
       "      <td>electric_bike</td>\n",
       "      <td>2022-01-01 15:48:06</td>\n",
       "      <td>2022-01-01 16:44:21</td>\n",
       "      <td>Central Park W &amp; W 91 St</td>\n",
       "      <td>7453.01</td>\n",
       "      <td>5 Ave &amp; E 87 St</td>\n",
       "      <td>7323.09</td>\n",
       "      <td>40.788665</td>\n",
       "      <td>-73.966801</td>\n",
       "      <td>...</td>\n",
       "      <td>casual</td>\n",
       "      <td>2022-01-01 15:48:06</td>\n",
       "      <td>2022-01-01</td>\n",
       "      <td>11.6</td>\n",
       "      <td>20895</td>\n",
       "      <td>56.0</td>\n",
       "      <td>0.915302</td>\n",
       "      <td>1</td>\n",
       "      <td>1</td>\n",
       "      <td>winter</td>\n",
       "    </tr>\n",
       "    <tr>\n",
       "      <th>3</th>\n",
       "      <td>1F1368CC1EEDA296</td>\n",
       "      <td>electric_bike</td>\n",
       "      <td>2022-01-01 02:32:52</td>\n",
       "      <td>2022-01-01 02:44:51</td>\n",
       "      <td>West End Ave &amp; W 78 St</td>\n",
       "      <td>7340.07</td>\n",
       "      <td>W 44 St &amp; 11 Ave</td>\n",
       "      <td>6756.05</td>\n",
       "      <td>40.783786</td>\n",
       "      <td>-73.981687</td>\n",
       "      <td>...</td>\n",
       "      <td>casual</td>\n",
       "      <td>2022-01-01 02:32:52</td>\n",
       "      <td>2022-01-01</td>\n",
       "      <td>11.6</td>\n",
       "      <td>20895</td>\n",
       "      <td>12.0</td>\n",
       "      <td>2.741188</td>\n",
       "      <td>1</td>\n",
       "      <td>1</td>\n",
       "      <td>winter</td>\n",
       "    </tr>\n",
       "    <tr>\n",
       "      <th>4</th>\n",
       "      <td>9FE4ABC81014D80D</td>\n",
       "      <td>electric_bike</td>\n",
       "      <td>2022-01-01 17:43:17</td>\n",
       "      <td>2022-01-01 17:52:31</td>\n",
       "      <td>Lawrence St &amp; Willoughby St</td>\n",
       "      <td>4596.09</td>\n",
       "      <td>Carroll St &amp; 6 Ave</td>\n",
       "      <td>4019.06</td>\n",
       "      <td>40.692362</td>\n",
       "      <td>-73.986317</td>\n",
       "      <td>...</td>\n",
       "      <td>member</td>\n",
       "      <td>2022-01-01 17:43:17</td>\n",
       "      <td>2022-01-01</td>\n",
       "      <td>11.6</td>\n",
       "      <td>20895</td>\n",
       "      <td>9.0</td>\n",
       "      <td>2.128204</td>\n",
       "      <td>1</td>\n",
       "      <td>1</td>\n",
       "      <td>winter</td>\n",
       "    </tr>\n",
       "  </tbody>\n",
       "</table>\n",
       "<p>5 rows × 22 columns</p>\n",
       "</div>"
      ],
      "text/plain": [
       "            ride_id  rideable_type           started_at             ended_at  \\\n",
       "0  68FDAB9B6656A4DF   classic_bike  2022-01-01 05:11:08  2022-01-01 05:15:25   \n",
       "1  91C955306D2CF8A6  electric_bike  2022-01-01 20:54:00  2022-01-01 21:06:39   \n",
       "2  B379B77AEB677F2A  electric_bike  2022-01-01 15:48:06  2022-01-01 16:44:21   \n",
       "3  1F1368CC1EEDA296  electric_bike  2022-01-01 02:32:52  2022-01-01 02:44:51   \n",
       "4  9FE4ABC81014D80D  electric_bike  2022-01-01 17:43:17  2022-01-01 17:52:31   \n",
       "\n",
       "            start_station_name start_station_id      end_station_name  \\\n",
       "0              W 21 St & 6 Ave          6140.05       W 11 St & 6 Ave   \n",
       "1     Bedford Ave & Nassau Ave          5550.05  Sharon St & Olive St   \n",
       "2     Central Park W & W 91 St          7453.01       5 Ave & E 87 St   \n",
       "3       West End Ave & W 78 St          7340.07      W 44 St & 11 Ave   \n",
       "4  Lawrence St & Willoughby St          4596.09    Carroll St & 6 Ave   \n",
       "\n",
       "  end_station_id  start_lat  start_lng  ...  member_casual  \\\n",
       "0        5914.03  40.741740 -73.994156  ...         member   \n",
       "1        5323.05  40.723117 -73.952123  ...         member   \n",
       "2        7323.09  40.788665 -73.966801  ...         casual   \n",
       "3        6756.05  40.783786 -73.981687  ...         casual   \n",
       "4        4019.06  40.692362 -73.986317  ...         member   \n",
       "\n",
       "            start_time       date avgTemp bike_rides_daily  trip_time  \\\n",
       "0  2022-01-01 05:11:08 2022-01-01    11.6            20895        4.0   \n",
       "1  2022-01-01 20:54:00 2022-01-01    11.6            20895       13.0   \n",
       "2  2022-01-01 15:48:06 2022-01-01    11.6            20895       56.0   \n",
       "3  2022-01-01 02:32:52 2022-01-01    11.6            20895       12.0   \n",
       "4  2022-01-01 17:43:17 2022-01-01    11.6            20895        9.0   \n",
       "\n",
       "   trip_dist_km  value  month  season  \n",
       "0      0.783088      1      1  winter  \n",
       "1      1.434057      1      1  winter  \n",
       "2      0.915302      1      1  winter  \n",
       "3      2.741188      1      1  winter  \n",
       "4      2.128204      1      1  winter  \n",
       "\n",
       "[5 rows x 22 columns]"
      ]
     },
     "execution_count": 9,
     "metadata": {},
     "output_type": "execute_result"
    }
   ],
   "source": [
    "df.head()"
   ]
  },
  {
   "cell_type": "code",
   "execution_count": 10,
   "id": "76e71b03-ef16-435f-996d-3abb60133d56",
   "metadata": {},
   "outputs": [],
   "source": [
    "## Groupby\n",
    "\n",
    "df_groupby_bar = df.groupby('start_station_name', as_index=False).agg({'value': 'sum'})\n",
    "top20 = df_groupby_bar.nlargest(20, 'value')"
   ]
  },
  {
   "cell_type": "code",
   "execution_count": 12,
   "id": "a880d967-d2da-4c43-bdcd-94d72a614f9b",
   "metadata": {},
   "outputs": [
    {
     "data": {
      "application/vnd.plotly.v1+json": {
       "config": {
        "plotlyServerURL": "https://plot.ly"
       },
       "data": [
        {
         "marker": {
          "color": [
           131679,
           126290,
           117797,
           109542,
           108412,
           101115,
           100784,
           100089,
           97958,
           96157,
           93955,
           92880,
           92550,
           92487,
           90159,
           89417,
           89318,
           89062,
           88789,
           87752
          ],
          "colorscale": [
           [
            0,
            "rgb(247,251,255)"
           ],
           [
            0.125,
            "rgb(222,235,247)"
           ],
           [
            0.25,
            "rgb(198,219,239)"
           ],
           [
            0.375,
            "rgb(158,202,225)"
           ],
           [
            0.5,
            "rgb(107,174,214)"
           ],
           [
            0.625,
            "rgb(66,146,198)"
           ],
           [
            0.75,
            "rgb(33,113,181)"
           ],
           [
            0.875,
            "rgb(8,81,156)"
           ],
           [
            1,
            "rgb(8,48,107)"
           ]
          ]
         },
         "type": "bar",
         "x": [
          "W 21 St & 6 Ave",
          "West St & Chambers St",
          "Broadway & W 58 St",
          "6 Ave & W 33 St",
          "1 Ave & E 68 St",
          "Broadway & E 14 St",
          "Broadway & W 25 St",
          "University Pl & E 14 St",
          "Broadway & E 21 St",
          "W 31 St & 7 Ave",
          "E 33 St & 1 Ave",
          "Cleveland Pl & Spring St",
          "12 Ave & W 40 St",
          "6 Ave & W 34 St",
          "11 Ave & W 41 St",
          "West St & Liberty St",
          "Lafayette St & E 8 St",
          "Central Park S & 6 Ave",
          "8 Ave & W 33 St",
          "E 40 St & Park Ave"
         ],
         "y": [
          131679,
          126290,
          117797,
          109542,
          108412,
          101115,
          100784,
          100089,
          97958,
          96157,
          93955,
          92880,
          92550,
          92487,
          90159,
          89417,
          89318,
          89062,
          88789,
          87752
         ]
        }
       ],
       "layout": {
        "autosize": true,
        "template": {
         "data": {
          "candlestick": [
           {
            "decreasing": {
             "line": {
              "color": "#000033"
             }
            },
            "increasing": {
             "line": {
              "color": "#000032"
             }
            },
            "type": "candlestick"
           }
          ],
          "contour": [
           {
            "colorscale": [
             [
              0,
              "#000011"
             ],
             [
              0.1111111111111111,
              "#000012"
             ],
             [
              0.2222222222222222,
              "#000013"
             ],
             [
              0.3333333333333333,
              "#000014"
             ],
             [
              0.4444444444444444,
              "#000015"
             ],
             [
              0.5555555555555556,
              "#000016"
             ],
             [
              0.6666666666666666,
              "#000017"
             ],
             [
              0.7777777777777778,
              "#000018"
             ],
             [
              0.8888888888888888,
              "#000019"
             ],
             [
              1,
              "#000020"
             ]
            ],
            "type": "contour"
           }
          ],
          "contourcarpet": [
           {
            "colorscale": [
             [
              0,
              "#000011"
             ],
             [
              0.1111111111111111,
              "#000012"
             ],
             [
              0.2222222222222222,
              "#000013"
             ],
             [
              0.3333333333333333,
              "#000014"
             ],
             [
              0.4444444444444444,
              "#000015"
             ],
             [
              0.5555555555555556,
              "#000016"
             ],
             [
              0.6666666666666666,
              "#000017"
             ],
             [
              0.7777777777777778,
              "#000018"
             ],
             [
              0.8888888888888888,
              "#000019"
             ],
             [
              1,
              "#000020"
             ]
            ],
            "type": "contourcarpet"
           }
          ],
          "heatmap": [
           {
            "colorscale": [
             [
              0,
              "#000011"
             ],
             [
              0.1111111111111111,
              "#000012"
             ],
             [
              0.2222222222222222,
              "#000013"
             ],
             [
              0.3333333333333333,
              "#000014"
             ],
             [
              0.4444444444444444,
              "#000015"
             ],
             [
              0.5555555555555556,
              "#000016"
             ],
             [
              0.6666666666666666,
              "#000017"
             ],
             [
              0.7777777777777778,
              "#000018"
             ],
             [
              0.8888888888888888,
              "#000019"
             ],
             [
              1,
              "#000020"
             ]
            ],
            "type": "heatmap"
           }
          ],
          "histogram2d": [
           {
            "colorscale": [
             [
              0,
              "#000011"
             ],
             [
              0.1111111111111111,
              "#000012"
             ],
             [
              0.2222222222222222,
              "#000013"
             ],
             [
              0.3333333333333333,
              "#000014"
             ],
             [
              0.4444444444444444,
              "#000015"
             ],
             [
              0.5555555555555556,
              "#000016"
             ],
             [
              0.6666666666666666,
              "#000017"
             ],
             [
              0.7777777777777778,
              "#000018"
             ],
             [
              0.8888888888888888,
              "#000019"
             ],
             [
              1,
              "#000020"
             ]
            ],
            "type": "histogram2d"
           }
          ],
          "icicle": [
           {
            "textfont": {
             "color": "white"
            },
            "type": "icicle"
           }
          ],
          "sankey": [
           {
            "textfont": {
             "color": "#000036"
            },
            "type": "sankey"
           }
          ],
          "scatter": [
           {
            "marker": {
             "line": {
              "width": 0
             }
            },
            "type": "scatter"
           }
          ],
          "table": [
           {
            "cells": {
             "fill": {
              "color": "#000038"
             },
             "font": {
              "color": "#000037"
             },
             "line": {
              "color": "#000039"
             }
            },
            "header": {
             "fill": {
              "color": "#000040"
             },
             "font": {
              "color": "#000036"
             },
             "line": {
              "color": "#000039"
             }
            },
            "type": "table"
           }
          ],
          "waterfall": [
           {
            "connector": {
             "line": {
              "color": "#000036",
              "width": 2
             }
            },
            "decreasing": {
             "marker": {
              "color": "#000033"
             }
            },
            "increasing": {
             "marker": {
              "color": "#000032"
             }
            },
            "totals": {
             "marker": {
              "color": "#000034"
             }
            },
            "type": "waterfall"
           }
          ]
         },
         "layout": {
          "coloraxis": {
           "colorscale": [
            [
             0,
             "#000011"
            ],
            [
             0.1111111111111111,
             "#000012"
            ],
            [
             0.2222222222222222,
             "#000013"
            ],
            [
             0.3333333333333333,
             "#000014"
            ],
            [
             0.4444444444444444,
             "#000015"
            ],
            [
             0.5555555555555556,
             "#000016"
            ],
            [
             0.6666666666666666,
             "#000017"
            ],
            [
             0.7777777777777778,
             "#000018"
            ],
            [
             0.8888888888888888,
             "#000019"
            ],
            [
             1,
             "#000020"
            ]
           ]
          },
          "colorscale": {
           "diverging": [
            [
             0,
             "#000021"
            ],
            [
             0.1,
             "#000022"
            ],
            [
             0.2,
             "#000023"
            ],
            [
             0.3,
             "#000024"
            ],
            [
             0.4,
             "#000025"
            ],
            [
             0.5,
             "#000026"
            ],
            [
             0.6,
             "#000027"
            ],
            [
             0.7,
             "#000028"
            ],
            [
             0.8,
             "#000029"
            ],
            [
             0.9,
             "#000030"
            ],
            [
             1,
             "#000031"
            ]
           ],
           "sequential": [
            [
             0,
             "#000011"
            ],
            [
             0.1111111111111111,
             "#000012"
            ],
            [
             0.2222222222222222,
             "#000013"
            ],
            [
             0.3333333333333333,
             "#000014"
            ],
            [
             0.4444444444444444,
             "#000015"
            ],
            [
             0.5555555555555556,
             "#000016"
            ],
            [
             0.6666666666666666,
             "#000017"
            ],
            [
             0.7777777777777778,
             "#000018"
            ],
            [
             0.8888888888888888,
             "#000019"
            ],
            [
             1,
             "#000020"
            ]
           ],
           "sequentialminus": [
            [
             0,
             "#000011"
            ],
            [
             0.1111111111111111,
             "#000012"
            ],
            [
             0.2222222222222222,
             "#000013"
            ],
            [
             0.3333333333333333,
             "#000014"
            ],
            [
             0.4444444444444444,
             "#000015"
            ],
            [
             0.5555555555555556,
             "#000016"
            ],
            [
             0.6666666666666666,
             "#000017"
            ],
            [
             0.7777777777777778,
             "#000018"
            ],
            [
             0.8888888888888888,
             "#000019"
            ],
            [
             1,
             "#000020"
            ]
           ]
          },
          "colorway": [
           "#000001",
           "#000002",
           "#000003",
           "#000004",
           "#000005",
           "#000006",
           "#000007",
           "#000008",
           "#000009",
           "#000010"
          ]
         }
        },
        "xaxis": {
         "autorange": true,
         "range": [
          -0.5,
          19.5
         ],
         "type": "category"
        },
        "yaxis": {
         "autorange": true,
         "range": [
          0,
          138609.47368421053
         ],
         "type": "linear"
        }
       }
      },
      "image/png": "[encoded data removed]",
      "text/html": [
       "<div>                            <div id=\"432794bc-5a20-4587-a09a-19a3bff6124f\" class=\"plotly-graph-div\" style=\"height:525px; width:100%;\"></div>            <script type=\"text/javascript\">                require([\"plotly\"], function(Plotly) {                    window.PLOTLYENV=window.PLOTLYENV || {};                                    if (document.getElementById(\"432794bc-5a20-4587-a09a-19a3bff6124f\")) {                    Plotly.newPlot(                        \"432794bc-5a20-4587-a09a-19a3bff6124f\",                        [{\"marker\":{\"color\":[131679,126290,117797,109542,108412,101115,100784,100089,97958,96157,93955,92880,92550,92487,90159,89417,89318,89062,88789,87752],\"colorscale\":[[0.0,\"rgb(247,251,255)\"],[0.125,\"rgb(222,235,247)\"],[0.25,\"rgb(198,219,239)\"],[0.375,\"rgb(158,202,225)\"],[0.5,\"rgb(107,174,214)\"],[0.625,\"rgb(66,146,198)\"],[0.75,\"rgb(33,113,181)\"],[0.875,\"rgb(8,81,156)\"],[1.0,\"rgb(8,48,107)\"]]},\"x\":[\"W 21 St & 6 Ave\",\"West St & Chambers St\",\"Broadway & W 58 St\",\"6 Ave & W 33 St\",\"1 Ave & E 68 St\",\"Broadway & E 14 St\",\"Broadway & W 25 St\",\"University Pl & E 14 St\",\"Broadway & E 21 St\",\"W 31 St & 7 Ave\",\"E 33 St & 1 Ave\",\"Cleveland Pl & Spring St\",\"12 Ave & W 40 St\",\"6 Ave & W 34 St\",\"11 Ave & W 41 St\",\"West St & Liberty St\",\"Lafayette St & E 8 St\",\"Central Park S & 6 Ave\",\"8 Ave & W 33 St\",\"E 40 St & Park Ave\"],\"y\":[131679,126290,117797,109542,108412,101115,100784,100089,97958,96157,93955,92880,92550,92487,90159,89417,89318,89062,88789,87752],\"type\":\"bar\"}],                        {\"template\":{\"data\":{\"candlestick\":[{\"decreasing\":{\"line\":{\"color\":\"#000033\"}},\"increasing\":{\"line\":{\"color\":\"#000032\"}},\"type\":\"candlestick\"}],\"contourcarpet\":[{\"colorscale\":[[0.0,\"#000011\"],[0.1111111111111111,\"#000012\"],[0.2222222222222222,\"#000013\"],[0.3333333333333333,\"#000014\"],[0.4444444444444444,\"#000015\"],[0.5555555555555556,\"#000016\"],[0.6666666666666666,\"#000017\"],[0.7777777777777778,\"#000018\"],[0.8888888888888888,\"#000019\"],[1.0,\"#000020\"]],\"type\":\"contourcarpet\"}],\"contour\":[{\"colorscale\":[[0.0,\"#000011\"],[0.1111111111111111,\"#000012\"],[0.2222222222222222,\"#000013\"],[0.3333333333333333,\"#000014\"],[0.4444444444444444,\"#000015\"],[0.5555555555555556,\"#000016\"],[0.6666666666666666,\"#000017\"],[0.7777777777777778,\"#000018\"],[0.8888888888888888,\"#000019\"],[1.0,\"#000020\"]],\"type\":\"contour\"}],\"heatmap\":[{\"colorscale\":[[0.0,\"#000011\"],[0.1111111111111111,\"#000012\"],[0.2222222222222222,\"#000013\"],[0.3333333333333333,\"#000014\"],[0.4444444444444444,\"#000015\"],[0.5555555555555556,\"#000016\"],[0.6666666666666666,\"#000017\"],[0.7777777777777778,\"#000018\"],[0.8888888888888888,\"#000019\"],[1.0,\"#000020\"]],\"type\":\"heatmap\"}],\"histogram2d\":[{\"colorscale\":[[0.0,\"#000011\"],[0.1111111111111111,\"#000012\"],[0.2222222222222222,\"#000013\"],[0.3333333333333333,\"#000014\"],[0.4444444444444444,\"#000015\"],[0.5555555555555556,\"#000016\"],[0.6666666666666666,\"#000017\"],[0.7777777777777778,\"#000018\"],[0.8888888888888888,\"#000019\"],[1.0,\"#000020\"]],\"type\":\"histogram2d\"}],\"icicle\":[{\"textfont\":{\"color\":\"white\"},\"type\":\"icicle\"}],\"sankey\":[{\"textfont\":{\"color\":\"#000036\"},\"type\":\"sankey\"}],\"scatter\":[{\"marker\":{\"line\":{\"width\":0}},\"type\":\"scatter\"}],\"table\":[{\"cells\":{\"fill\":{\"color\":\"#000038\"},\"font\":{\"color\":\"#000037\"},\"line\":{\"color\":\"#000039\"}},\"header\":{\"fill\":{\"color\":\"#000040\"},\"font\":{\"color\":\"#000036\"},\"line\":{\"color\":\"#000039\"}},\"type\":\"table\"}],\"waterfall\":[{\"connector\":{\"line\":{\"color\":\"#000036\",\"width\":2}},\"decreasing\":{\"marker\":{\"color\":\"#000033\"}},\"increasing\":{\"marker\":{\"color\":\"#000032\"}},\"totals\":{\"marker\":{\"color\":\"#000034\"}},\"type\":\"waterfall\"}]},\"layout\":{\"coloraxis\":{\"colorscale\":[[0.0,\"#000011\"],[0.1111111111111111,\"#000012\"],[0.2222222222222222,\"#000013\"],[0.3333333333333333,\"#000014\"],[0.4444444444444444,\"#000015\"],[0.5555555555555556,\"#000016\"],[0.6666666666666666,\"#000017\"],[0.7777777777777778,\"#000018\"],[0.8888888888888888,\"#000019\"],[1.0,\"#000020\"]]},\"colorscale\":{\"diverging\":[[0.0,\"#000021\"],[0.1,\"#000022\"],[0.2,\"#000023\"],[0.3,\"#000024\"],[0.4,\"#000025\"],[0.5,\"#000026\"],[0.6,\"#000027\"],[0.7,\"#000028\"],[0.8,\"#000029\"],[0.9,\"#000030\"],[1.0,\"#000031\"]],\"sequential\":[[0.0,\"#000011\"],[0.1111111111111111,\"#000012\"],[0.2222222222222222,\"#000013\"],[0.3333333333333333,\"#000014\"],[0.4444444444444444,\"#000015\"],[0.5555555555555556,\"#000016\"],[0.6666666666666666,\"#000017\"],[0.7777777777777778,\"#000018\"],[0.8888888888888888,\"#000019\"],[1.0,\"#000020\"]],\"sequentialminus\":[[0.0,\"#000011\"],[0.1111111111111111,\"#000012\"],[0.2222222222222222,\"#000013\"],[0.3333333333333333,\"#000014\"],[0.4444444444444444,\"#000015\"],[0.5555555555555556,\"#000016\"],[0.6666666666666666,\"#000017\"],[0.7777777777777778,\"#000018\"],[0.8888888888888888,\"#000019\"],[1.0,\"#000020\"]]},\"colorway\":[\"#000001\",\"#000002\",\"#000003\",\"#000004\",\"#000005\",\"#000006\",\"#000007\",\"#000008\",\"#000009\",\"#000010\"]}}},                        {\"responsive\": true}                    ).then(function(){\n",
       "                            \n",
       "var gd = document.getElementById('432794bc-5a20-4587-a09a-19a3bff6124f');\n",
       "var x = new MutationObserver(function (mutations, observer) {{\n",
       "        var display = window.getComputedStyle(gd).display;\n",
       "        if (!display || display === 'none') {{\n",
       "            console.log([gd, 'removed!']);\n",
       "            Plotly.purge(gd);\n",
       "            observer.disconnect();\n",
       "        }}\n",
       "}});\n",
       "\n",
       "// Listen for the removal of the full notebook cells\n",
       "var notebookContainer = gd.closest('#notebook-container');\n",
       "if (notebookContainer) {{\n",
       "    x.observe(notebookContainer, {childList: true});\n",
       "}}\n",
       "\n",
       "// Listen for the clearing of the current output cell\n",
       "var outputEl = gd.closest('.output');\n",
       "if (outputEl) {{\n",
       "    x.observe(outputEl, {childList: true});\n",
       "}}\n",
       "\n",
       "                        })                };                });            </script>        </div>"
      ]
     },
     "metadata": {},
     "output_type": "display_data"
    }
   ],
   "source": [
    "fig = go.Figure(go.Bar(x = top20['start_station_name'], y = top20['value'], marker={'color': top20['value'],'colorscale': 'Blues'}))\n",
    "fig.show()"
   ]
  },
  {
   "cell_type": "code",
   "execution_count": 24,
   "id": "743ed2fc-ad5d-42e1-9238-aeacf9c33ffb",
   "metadata": {},
   "outputs": [
    {
     "data": {
      "application/vnd.plotly.v1+json": {
       "config": {
        "plotlyServerURL": "https://plot.ly"
       },
       "data": [
        {
         "marker": {
          "color": [
           131679,
           126290,
           117797,
           109542,
           108412,
           101115,
           100784,
           100089,
           97958,
           96157,
           93955,
           92880,
           92550,
           92487,
           90159,
           89417,
           89318,
           89062,
           88789,
           87752
          ],
          "colorscale": [
           [
            0,
            "rgb(247,251,255)"
           ],
           [
            0.125,
            "rgb(222,235,247)"
           ],
           [
            0.25,
            "rgb(198,219,239)"
           ],
           [
            0.375,
            "rgb(158,202,225)"
           ],
           [
            0.5,
            "rgb(107,174,214)"
           ],
           [
            0.625,
            "rgb(66,146,198)"
           ],
           [
            0.75,
            "rgb(33,113,181)"
           ],
           [
            0.875,
            "rgb(8,81,156)"
           ],
           [
            1,
            "rgb(8,48,107)"
           ]
          ]
         },
         "type": "bar",
         "x": [
          "W 21 St & 6 Ave",
          "West St & Chambers St",
          "Broadway & W 58 St",
          "6 Ave & W 33 St",
          "1 Ave & E 68 St",
          "Broadway & E 14 St",
          "Broadway & W 25 St",
          "University Pl & E 14 St",
          "Broadway & E 21 St",
          "W 31 St & 7 Ave",
          "E 33 St & 1 Ave",
          "Cleveland Pl & Spring St",
          "12 Ave & W 40 St",
          "6 Ave & W 34 St",
          "11 Ave & W 41 St",
          "West St & Liberty St",
          "Lafayette St & E 8 St",
          "Central Park S & 6 Ave",
          "8 Ave & W 33 St",
          "E 40 St & Park Ave"
         ],
         "y": [
          131679,
          126290,
          117797,
          109542,
          108412,
          101115,
          100784,
          100089,
          97958,
          96157,
          93955,
          92880,
          92550,
          92487,
          90159,
          89417,
          89318,
          89062,
          88789,
          87752
         ]
        }
       ],
       "layout": {
        "height": 600,
        "template": {
         "data": {
          "candlestick": [
           {
            "decreasing": {
             "line": {
              "color": "#000033"
             }
            },
            "increasing": {
             "line": {
              "color": "#000032"
             }
            },
            "type": "candlestick"
           }
          ],
          "contour": [
           {
            "colorscale": [
             [
              0,
              "#000011"
             ],
             [
              0.1111111111111111,
              "#000012"
             ],
             [
              0.2222222222222222,
              "#000013"
             ],
             [
              0.3333333333333333,
              "#000014"
             ],
             [
              0.4444444444444444,
              "#000015"
             ],
             [
              0.5555555555555556,
              "#000016"
             ],
             [
              0.6666666666666666,
              "#000017"
             ],
             [
              0.7777777777777778,
              "#000018"
             ],
             [
              0.8888888888888888,
              "#000019"
             ],
             [
              1,
              "#000020"
             ]
            ],
            "type": "contour"
           }
          ],
          "contourcarpet": [
           {
            "colorscale": [
             [
              0,
              "#000011"
             ],
             [
              0.1111111111111111,
              "#000012"
             ],
             [
              0.2222222222222222,
              "#000013"
             ],
             [
              0.3333333333333333,
              "#000014"
             ],
             [
              0.4444444444444444,
              "#000015"
             ],
             [
              0.5555555555555556,
              "#000016"
             ],
             [
              0.6666666666666666,
              "#000017"
             ],
             [
              0.7777777777777778,
              "#000018"
             ],
             [
              0.8888888888888888,
              "#000019"
             ],
             [
              1,
              "#000020"
             ]
            ],
            "type": "contourcarpet"
           }
          ],
          "heatmap": [
           {
            "colorscale": [
             [
              0,
              "#000011"
             ],
             [
              0.1111111111111111,
              "#000012"
             ],
             [
              0.2222222222222222,
              "#000013"
             ],
             [
              0.3333333333333333,
              "#000014"
             ],
             [
              0.4444444444444444,
              "#000015"
             ],
             [
              0.5555555555555556,
              "#000016"
             ],
             [
              0.6666666666666666,
              "#000017"
             ],
             [
              0.7777777777777778,
              "#000018"
             ],
             [
              0.8888888888888888,
              "#000019"
             ],
             [
              1,
              "#000020"
             ]
            ],
            "type": "heatmap"
           }
          ],
          "histogram2d": [
           {
            "colorscale": [
             [
              0,
              "#000011"
             ],
             [
              0.1111111111111111,
              "#000012"
             ],
             [
              0.2222222222222222,
              "#000013"
             ],
             [
              0.3333333333333333,
              "#000014"
             ],
             [
              0.4444444444444444,
              "#000015"
             ],
             [
              0.5555555555555556,
              "#000016"
             ],
             [
              0.6666666666666666,
              "#000017"
             ],
             [
              0.7777777777777778,
              "#000018"
             ],
             [
              0.8888888888888888,
              "#000019"
             ],
             [
              1,
              "#000020"
             ]
            ],
            "type": "histogram2d"
           }
          ],
          "icicle": [
           {
            "textfont": {
             "color": "white"
            },
            "type": "icicle"
           }
          ],
          "sankey": [
           {
            "textfont": {
             "color": "#000036"
            },
            "type": "sankey"
           }
          ],
          "scatter": [
           {
            "marker": {
             "line": {
              "width": 0
             }
            },
            "type": "scatter"
           }
          ],
          "table": [
           {
            "cells": {
             "fill": {
              "color": "#000038"
             },
             "font": {
              "color": "#000037"
             },
             "line": {
              "color": "#000039"
             }
            },
            "header": {
             "fill": {
              "color": "#000040"
             },
             "font": {
              "color": "#000036"
             },
             "line": {
              "color": "#000039"
             }
            },
            "type": "table"
           }
          ],
          "waterfall": [
           {
            "connector": {
             "line": {
              "color": "#000036",
              "width": 2
             }
            },
            "decreasing": {
             "marker": {
              "color": "#000033"
             }
            },
            "increasing": {
             "marker": {
              "color": "#000032"
             }
            },
            "totals": {
             "marker": {
              "color": "#000034"
             }
            },
            "type": "waterfall"
           }
          ]
         },
         "layout": {
          "coloraxis": {
           "colorscale": [
            [
             0,
             "#000011"
            ],
            [
             0.1111111111111111,
             "#000012"
            ],
            [
             0.2222222222222222,
             "#000013"
            ],
            [
             0.3333333333333333,
             "#000014"
            ],
            [
             0.4444444444444444,
             "#000015"
            ],
            [
             0.5555555555555556,
             "#000016"
            ],
            [
             0.6666666666666666,
             "#000017"
            ],
            [
             0.7777777777777778,
             "#000018"
            ],
            [
             0.8888888888888888,
             "#000019"
            ],
            [
             1,
             "#000020"
            ]
           ]
          },
          "colorscale": {
           "diverging": [
            [
             0,
             "#000021"
            ],
            [
             0.1,
             "#000022"
            ],
            [
             0.2,
             "#000023"
            ],
            [
             0.3,
             "#000024"
            ],
            [
             0.4,
             "#000025"
            ],
            [
             0.5,
             "#000026"
            ],
            [
             0.6,
             "#000027"
            ],
            [
             0.7,
             "#000028"
            ],
            [
             0.8,
             "#000029"
            ],
            [
             0.9,
             "#000030"
            ],
            [
             1,
             "#000031"
            ]
           ],
           "sequential": [
            [
             0,
             "#000011"
            ],
            [
             0.1111111111111111,
             "#000012"
            ],
            [
             0.2222222222222222,
             "#000013"
            ],
            [
             0.3333333333333333,
             "#000014"
            ],
            [
             0.4444444444444444,
             "#000015"
            ],
            [
             0.5555555555555556,
             "#000016"
            ],
            [
             0.6666666666666666,
             "#000017"
            ],
            [
             0.7777777777777778,
             "#000018"
            ],
            [
             0.8888888888888888,
             "#000019"
            ],
            [
             1,
             "#000020"
            ]
           ],
           "sequentialminus": [
            [
             0,
             "#000011"
            ],
            [
             0.1111111111111111,
             "#000012"
            ],
            [
             0.2222222222222222,
             "#000013"
            ],
            [
             0.3333333333333333,
             "#000014"
            ],
            [
             0.4444444444444444,
             "#000015"
            ],
            [
             0.5555555555555556,
             "#000016"
            ],
            [
             0.6666666666666666,
             "#000017"
            ],
            [
             0.7777777777777778,
             "#000018"
            ],
            [
             0.8888888888888888,
             "#000019"
            ],
            [
             1,
             "#000020"
            ]
           ]
          },
          "colorway": [
           "#000001",
           "#000002",
           "#000003",
           "#000004",
           "#000005",
           "#000006",
           "#000007",
           "#000008",
           "#000009",
           "#000010"
          ]
         }
        },
        "title": {
         "text": "Top 20 most popular bike stations in New York"
        },
        "width": 900,
        "xaxis": {
         "autorange": true,
         "range": [
          -0.5,
          19.5
         ],
         "title": {
          "text": "Start stations"
         },
         "type": "category"
        },
        "yaxis": {
         "autorange": true,
         "range": [
          0,
          138609.47368421053
         ],
         "title": {
          "text": "Sum of trips"
         },
         "type": "linear"
        }
       }
      },
      "image/png": "[encoded data removed]",
      "text/html": [
       "<div>                            <div id=\"bb8f412d-cea9-40e3-aa76-aa5c3aaee55a\" class=\"plotly-graph-div\" style=\"height:600px; width:900px;\"></div>            <script type=\"text/javascript\">                require([\"plotly\"], function(Plotly) {                    window.PLOTLYENV=window.PLOTLYENV || {};                                    if (document.getElementById(\"bb8f412d-cea9-40e3-aa76-aa5c3aaee55a\")) {                    Plotly.newPlot(                        \"bb8f412d-cea9-40e3-aa76-aa5c3aaee55a\",                        [{\"marker\":{\"color\":[131679,126290,117797,109542,108412,101115,100784,100089,97958,96157,93955,92880,92550,92487,90159,89417,89318,89062,88789,87752],\"colorscale\":[[0.0,\"rgb(247,251,255)\"],[0.125,\"rgb(222,235,247)\"],[0.25,\"rgb(198,219,239)\"],[0.375,\"rgb(158,202,225)\"],[0.5,\"rgb(107,174,214)\"],[0.625,\"rgb(66,146,198)\"],[0.75,\"rgb(33,113,181)\"],[0.875,\"rgb(8,81,156)\"],[1.0,\"rgb(8,48,107)\"]]},\"x\":[\"W 21 St & 6 Ave\",\"West St & Chambers St\",\"Broadway & W 58 St\",\"6 Ave & W 33 St\",\"1 Ave & E 68 St\",\"Broadway & E 14 St\",\"Broadway & W 25 St\",\"University Pl & E 14 St\",\"Broadway & E 21 St\",\"W 31 St & 7 Ave\",\"E 33 St & 1 Ave\",\"Cleveland Pl & Spring St\",\"12 Ave & W 40 St\",\"6 Ave & W 34 St\",\"11 Ave & W 41 St\",\"West St & Liberty St\",\"Lafayette St & E 8 St\",\"Central Park S & 6 Ave\",\"8 Ave & W 33 St\",\"E 40 St & Park Ave\"],\"y\":[131679,126290,117797,109542,108412,101115,100784,100089,97958,96157,93955,92880,92550,92487,90159,89417,89318,89062,88789,87752],\"type\":\"bar\"}],                        {\"template\":{\"data\":{\"candlestick\":[{\"decreasing\":{\"line\":{\"color\":\"#000033\"}},\"increasing\":{\"line\":{\"color\":\"#000032\"}},\"type\":\"candlestick\"}],\"contourcarpet\":[{\"colorscale\":[[0.0,\"#000011\"],[0.1111111111111111,\"#000012\"],[0.2222222222222222,\"#000013\"],[0.3333333333333333,\"#000014\"],[0.4444444444444444,\"#000015\"],[0.5555555555555556,\"#000016\"],[0.6666666666666666,\"#000017\"],[0.7777777777777778,\"#000018\"],[0.8888888888888888,\"#000019\"],[1.0,\"#000020\"]],\"type\":\"contourcarpet\"}],\"contour\":[{\"colorscale\":[[0.0,\"#000011\"],[0.1111111111111111,\"#000012\"],[0.2222222222222222,\"#000013\"],[0.3333333333333333,\"#000014\"],[0.4444444444444444,\"#000015\"],[0.5555555555555556,\"#000016\"],[0.6666666666666666,\"#000017\"],[0.7777777777777778,\"#000018\"],[0.8888888888888888,\"#000019\"],[1.0,\"#000020\"]],\"type\":\"contour\"}],\"heatmap\":[{\"colorscale\":[[0.0,\"#000011\"],[0.1111111111111111,\"#000012\"],[0.2222222222222222,\"#000013\"],[0.3333333333333333,\"#000014\"],[0.4444444444444444,\"#000015\"],[0.5555555555555556,\"#000016\"],[0.6666666666666666,\"#000017\"],[0.7777777777777778,\"#000018\"],[0.8888888888888888,\"#000019\"],[1.0,\"#000020\"]],\"type\":\"heatmap\"}],\"histogram2d\":[{\"colorscale\":[[0.0,\"#000011\"],[0.1111111111111111,\"#000012\"],[0.2222222222222222,\"#000013\"],[0.3333333333333333,\"#000014\"],[0.4444444444444444,\"#000015\"],[0.5555555555555556,\"#000016\"],[0.6666666666666666,\"#000017\"],[0.7777777777777778,\"#000018\"],[0.8888888888888888,\"#000019\"],[1.0,\"#000020\"]],\"type\":\"histogram2d\"}],\"icicle\":[{\"textfont\":{\"color\":\"white\"},\"type\":\"icicle\"}],\"sankey\":[{\"textfont\":{\"color\":\"#000036\"},\"type\":\"sankey\"}],\"scatter\":[{\"marker\":{\"line\":{\"width\":0}},\"type\":\"scatter\"}],\"table\":[{\"cells\":{\"fill\":{\"color\":\"#000038\"},\"font\":{\"color\":\"#000037\"},\"line\":{\"color\":\"#000039\"}},\"header\":{\"fill\":{\"color\":\"#000040\"},\"font\":{\"color\":\"#000036\"},\"line\":{\"color\":\"#000039\"}},\"type\":\"table\"}],\"waterfall\":[{\"connector\":{\"line\":{\"color\":\"#000036\",\"width\":2}},\"decreasing\":{\"marker\":{\"color\":\"#000033\"}},\"increasing\":{\"marker\":{\"color\":\"#000032\"}},\"totals\":{\"marker\":{\"color\":\"#000034\"}},\"type\":\"waterfall\"}]},\"layout\":{\"coloraxis\":{\"colorscale\":[[0.0,\"#000011\"],[0.1111111111111111,\"#000012\"],[0.2222222222222222,\"#000013\"],[0.3333333333333333,\"#000014\"],[0.4444444444444444,\"#000015\"],[0.5555555555555556,\"#000016\"],[0.6666666666666666,\"#000017\"],[0.7777777777777778,\"#000018\"],[0.8888888888888888,\"#000019\"],[1.0,\"#000020\"]]},\"colorscale\":{\"diverging\":[[0.0,\"#000021\"],[0.1,\"#000022\"],[0.2,\"#000023\"],[0.3,\"#000024\"],[0.4,\"#000025\"],[0.5,\"#000026\"],[0.6,\"#000027\"],[0.7,\"#000028\"],[0.8,\"#000029\"],[0.9,\"#000030\"],[1.0,\"#000031\"]],\"sequential\":[[0.0,\"#000011\"],[0.1111111111111111,\"#000012\"],[0.2222222222222222,\"#000013\"],[0.3333333333333333,\"#000014\"],[0.4444444444444444,\"#000015\"],[0.5555555555555556,\"#000016\"],[0.6666666666666666,\"#000017\"],[0.7777777777777778,\"#000018\"],[0.8888888888888888,\"#000019\"],[1.0,\"#000020\"]],\"sequentialminus\":[[0.0,\"#000011\"],[0.1111111111111111,\"#000012\"],[0.2222222222222222,\"#000013\"],[0.3333333333333333,\"#000014\"],[0.4444444444444444,\"#000015\"],[0.5555555555555556,\"#000016\"],[0.6666666666666666,\"#000017\"],[0.7777777777777778,\"#000018\"],[0.8888888888888888,\"#000019\"],[1.0,\"#000020\"]]},\"colorway\":[\"#000001\",\"#000002\",\"#000003\",\"#000004\",\"#000005\",\"#000006\",\"#000007\",\"#000008\",\"#000009\",\"#000010\"]}},\"title\":{\"text\":\"Top 20 most popular bike stations in New York\"},\"xaxis\":{\"title\":{\"text\":\"Start stations\"}},\"yaxis\":{\"title\":{\"text\":\"Sum of trips\"}},\"width\":900,\"height\":600},                        {\"responsive\": true}                    ).then(function(){\n",
       "                            \n",
       "var gd = document.getElementById('bb8f412d-cea9-40e3-aa76-aa5c3aaee55a');\n",
       "var x = new MutationObserver(function (mutations, observer) {{\n",
       "        var display = window.getComputedStyle(gd).display;\n",
       "        if (!display || display === 'none') {{\n",
       "            console.log([gd, 'removed!']);\n",
       "            Plotly.purge(gd);\n",
       "            observer.disconnect();\n",
       "        }}\n",
       "}});\n",
       "\n",
       "// Listen for the removal of the full notebook cells\n",
       "var notebookContainer = gd.closest('#notebook-container');\n",
       "if (notebookContainer) {{\n",
       "    x.observe(notebookContainer, {childList: true});\n",
       "}}\n",
       "\n",
       "// Listen for the clearing of the current output cell\n",
       "var outputEl = gd.closest('.output');\n",
       "if (outputEl) {{\n",
       "    x.observe(outputEl, {childList: true});\n",
       "}}\n",
       "\n",
       "                        })                };                });            </script>        </div>"
      ]
     },
     "metadata": {},
     "output_type": "display_data"
    }
   ],
   "source": [
    "## Bar chart\n",
    "\n",
    "fig.update_layout(\n",
    "    title = 'Top 20 most popular bike stations in New York',\n",
    "    xaxis_title = 'Start stations',\n",
    "    yaxis_title ='Sum of trips',\n",
    "    width = 900, height = 600\n",
    ")"
   ]
  },
  {
   "cell_type": "code",
   "execution_count": 14,
   "id": "bee6fe40-ba10-4648-8a27-6395e9537ced",
   "metadata": {},
   "outputs": [
    {
     "data": {
      "text/plain": [
       "207"
      ]
     },
     "execution_count": 14,
     "metadata": {},
     "output_type": "execute_result"
    }
   ],
   "source": [
    "import gc # this is a garbage collector\n",
    "gc.collect()"
   ]
  },
  {
   "cell_type": "code",
   "execution_count": 15,
   "id": "0d1cdbf6-9758-4c08-951c-b045c45e5ceb",
   "metadata": {},
   "outputs": [],
   "source": [
    "# Save the top 20 stations as a csv file \n",
    "\n",
    "top20.to_csv('top20.csv')"
   ]
  },
  {
   "cell_type": "code",
   "execution_count": 16,
   "id": "c1630095-a5b8-4d2c-a217-4b840621298e",
   "metadata": {},
   "outputs": [
    {
     "data": {
      "text/plain": [
       "Index(['ride_id', 'rideable_type', 'started_at', 'ended_at',\n",
       "       'start_station_name', 'start_station_id', 'end_station_name',\n",
       "       'end_station_id', 'start_lat', 'start_lng', 'end_lat', 'end_lng',\n",
       "       'member_casual', 'start_time', 'date', 'avgTemp', 'bike_rides_daily',\n",
       "       'trip_time', 'trip_dist_km', 'value', 'month', 'season'],\n",
       "      dtype='object')"
      ]
     },
     "execution_count": 16,
     "metadata": {},
     "output_type": "execute_result"
    }
   ],
   "source": [
    "df.columns"
   ]
  },
  {
   "cell_type": "code",
   "execution_count": 17,
   "id": "cc8ec338-7ff6-48a9-9a29-f81a0b68b17b",
   "metadata": {
    "tags": []
   },
   "outputs": [],
   "source": [
    "columns_to_select = ['start_station_name', 'end_station_name', 'date', 'avgTemp', 'value',\n",
    "       'bike_rides_daily', 'season']\n",
    "\n",
    "df_1 = df[columns_to_select]"
   ]
  },
  {
   "cell_type": "code",
   "execution_count": 18,
   "id": "979021a8-2ce6-4d10-8c95-8d34465a1bde",
   "metadata": {},
   "outputs": [
    {
     "data": {
      "text/plain": [
       "Index(['start_station_name', 'end_station_name', 'date', 'avgTemp', 'value',\n",
       "       'bike_rides_daily', 'season'],\n",
       "      dtype='object')"
      ]
     },
     "execution_count": 18,
     "metadata": {},
     "output_type": "execute_result"
    }
   ],
   "source": [
    "df_1.columns"
   ]
  },
  {
   "cell_type": "code",
   "execution_count": 25,
   "id": "cec24da8-34c1-40d2-97aa-d8b90d9b735f",
   "metadata": {
    "tags": []
   },
   "outputs": [
    {
     "data": {
      "text/plain": [
       "(30689921, 7)"
      ]
     },
     "execution_count": 25,
     "metadata": {},
     "output_type": "execute_result"
    }
   ],
   "source": [
    "df_1.shape"
   ]
  },
  {
   "cell_type": "code",
   "execution_count": 26,
   "id": "1a74e9f4-7790-4ad9-bfab-82306dee8358",
   "metadata": {},
   "outputs": [],
   "source": [
    "np.random.seed(32)\n",
    "red = np.random.rand(len(df_1)) <= 0.95"
   ]
  },
  {
   "cell_type": "code",
   "execution_count": 27,
   "id": "fc094f65-f7e8-44c4-addb-3ea86fd40a98",
   "metadata": {},
   "outputs": [],
   "source": [
    "small = df_1[~red]"
   ]
  },
  {
   "cell_type": "code",
   "execution_count": 28,
   "id": "0b65c55b-f77c-4350-b4c7-f2f18dfb931b",
   "metadata": {},
   "outputs": [
    {
     "data": {
      "text/plain": [
       "(1533137, 7)"
      ]
     },
     "execution_count": 28,
     "metadata": {},
     "output_type": "execute_result"
    }
   ],
   "source": [
    "small.shape"
   ]
  },
  {
   "cell_type": "code",
   "execution_count": 29,
   "id": "52acf4cf-ebee-4497-9593-c3e95841e767",
   "metadata": {},
   "outputs": [],
   "source": [
    "small.to_csv('reduced_data_to_plot_7.csv',index = False)"
   ]
  },
  {
   "cell_type": "code",
   "execution_count": 23,
   "id": "7adc11b1-4640-42f9-90b8-932541f405cd",
   "metadata": {},
   "outputs": [],
   "source": [
    "df_1.to_csv('reduced_data_to_plot.csv')"
   ]
  }
 ],
 "metadata": {
  "kernelspec": {
   "display_name": "Python [conda env:anaconda3-venv_nycbikes]",
   "language": "python",
   "name": "conda-env-anaconda3-venv_nycbikes-py"
  },
  "language_info": {
   "codemirror_mode": {
    "name": "ipython",
    "version": 3
   },
   "file_extension": ".py",
   "mimetype": "text/x-python",
   "name": "python",
   "nbconvert_exporter": "python",
   "pygments_lexer": "ipython3",
   "version": "3.12.4"
  }
 },
 "nbformat": 4,
 "nbformat_minor": 5
}
