{
 "cells": [
  {
   "cell_type": "markdown",
   "id": "4610c53d-2674-42f1-9b61-36dd0b7ac37a",
   "metadata": {},
   "source": [
    "# E5 Advanced geospatial plotting "
   ]
  },
  {
   "cell_type": "code",
   "execution_count": 1,
   "id": "29165bf8",
   "metadata": {
    "tags": []
   },
   "outputs": [],
   "source": [
    "import pandas as pd\n",
    "import os\n",
    "from keplergl import KeplerGl\n",
    "from pyproj import CRS\n",
    "import numpy as np\n",
    "from matplotlib import pyplot as plt"
   ]
  },
  {
   "cell_type": "code",
   "execution_count": 2,
   "id": "06154e1a-b4e1-4cb3-b393-211532f2b182",
   "metadata": {},
   "outputs": [],
   "source": [
    "df = pd.read_csv(r\"C:\\Users\\mojos\\Documents\\Career Foundry Course\\CF Specialization\\NYC_2022-Bike-Share-Analysis\\Section 2 - Temp Data Storage File\\Prepared Data\\chicago_data.csv\", index_col = 0)"
   ]
  },
  {
   "cell_type": "markdown",
   "id": "068fbca1-8036-41b5-ae4a-df7dddc5560c",
   "metadata": {
    "tags": []
   },
   "source": [
    "## Data preprocessing"
   ]
  },
  {
   "cell_type": "code",
   "execution_count": 3,
   "id": "c2f1cba7-547d-423c-818a-7056f1ab160a",
   "metadata": {},
   "outputs": [],
   "source": [
    "# Create a value column and group by start and end station \n",
    "\n",
    "df['value'] = 1\n",
    "df_group = df.groupby(['from_station_name', 'to_station_name'])['value'].count().reset_index()"
   ]
  },
  {
   "cell_type": "code",
   "execution_count": 4,
   "id": "3da9bfa3-28b2-47f7-854b-73b83e946fdf",
   "metadata": {},
   "outputs": [
    {
     "data": {
      "text/html": [
       "<div>\n",
       "<style scoped>\n",
       "    .dataframe tbody tr th:only-of-type {\n",
       "        vertical-align: middle;\n",
       "    }\n",
       "\n",
       "    .dataframe tbody tr th {\n",
       "        vertical-align: top;\n",
       "    }\n",
       "\n",
       "    .dataframe thead th {\n",
       "        text-align: right;\n",
       "    }\n",
       "</style>\n",
       "<table border=\"1\" class=\"dataframe\">\n",
       "  <thead>\n",
       "    <tr style=\"text-align: right;\">\n",
       "      <th></th>\n",
       "      <th>from_station_name</th>\n",
       "      <th>to_station_name</th>\n",
       "      <th>value</th>\n",
       "    </tr>\n",
       "  </thead>\n",
       "  <tbody>\n",
       "    <tr>\n",
       "      <th>0</th>\n",
       "      <td>2112 W Peterson Ave</td>\n",
       "      <td>2112 W Peterson Ave</td>\n",
       "      <td>14</td>\n",
       "    </tr>\n",
       "    <tr>\n",
       "      <th>1</th>\n",
       "      <td>2112 W Peterson Ave</td>\n",
       "      <td>Ashland Ave &amp; Belle Plaine Ave</td>\n",
       "      <td>1</td>\n",
       "    </tr>\n",
       "    <tr>\n",
       "      <th>2</th>\n",
       "      <td>2112 W Peterson Ave</td>\n",
       "      <td>Avondale Ave &amp; Irving Park Rd</td>\n",
       "      <td>1</td>\n",
       "    </tr>\n",
       "    <tr>\n",
       "      <th>3</th>\n",
       "      <td>2112 W Peterson Ave</td>\n",
       "      <td>Benson Ave &amp; Church St</td>\n",
       "      <td>2</td>\n",
       "    </tr>\n",
       "    <tr>\n",
       "      <th>4</th>\n",
       "      <td>2112 W Peterson Ave</td>\n",
       "      <td>Broadway &amp; Argyle St</td>\n",
       "      <td>2</td>\n",
       "    </tr>\n",
       "    <tr>\n",
       "      <th>...</th>\n",
       "      <td>...</td>\n",
       "      <td>...</td>\n",
       "      <td>...</td>\n",
       "    </tr>\n",
       "    <tr>\n",
       "      <th>113674</th>\n",
       "      <td>Yates Blvd &amp; 75th St</td>\n",
       "      <td>South Shore Dr &amp; 74th St</td>\n",
       "      <td>2</td>\n",
       "    </tr>\n",
       "    <tr>\n",
       "      <th>113675</th>\n",
       "      <td>Yates Blvd &amp; 75th St</td>\n",
       "      <td>Stony Island Ave &amp; 71st St</td>\n",
       "      <td>2</td>\n",
       "    </tr>\n",
       "    <tr>\n",
       "      <th>113676</th>\n",
       "      <td>Yates Blvd &amp; 75th St</td>\n",
       "      <td>Stony Island Ave &amp; 75th St</td>\n",
       "      <td>3</td>\n",
       "    </tr>\n",
       "    <tr>\n",
       "      <th>113677</th>\n",
       "      <td>Yates Blvd &amp; 75th St</td>\n",
       "      <td>Woodlawn Ave &amp; 55th St</td>\n",
       "      <td>2</td>\n",
       "    </tr>\n",
       "    <tr>\n",
       "      <th>113678</th>\n",
       "      <td>Yates Blvd &amp; 75th St</td>\n",
       "      <td>Yates Blvd &amp; 75th St</td>\n",
       "      <td>21</td>\n",
       "    </tr>\n",
       "  </tbody>\n",
       "</table>\n",
       "<p>113679 rows × 3 columns</p>\n",
       "</div>"
      ],
      "text/plain": [
       "           from_station_name                 to_station_name  value\n",
       "0        2112 W Peterson Ave             2112 W Peterson Ave     14\n",
       "1        2112 W Peterson Ave  Ashland Ave & Belle Plaine Ave      1\n",
       "2        2112 W Peterson Ave   Avondale Ave & Irving Park Rd      1\n",
       "3        2112 W Peterson Ave          Benson Ave & Church St      2\n",
       "4        2112 W Peterson Ave            Broadway & Argyle St      2\n",
       "...                      ...                             ...    ...\n",
       "113674  Yates Blvd & 75th St        South Shore Dr & 74th St      2\n",
       "113675  Yates Blvd & 75th St      Stony Island Ave & 71st St      2\n",
       "113676  Yates Blvd & 75th St      Stony Island Ave & 75th St      3\n",
       "113677  Yates Blvd & 75th St          Woodlawn Ave & 55th St      2\n",
       "113678  Yates Blvd & 75th St            Yates Blvd & 75th St     21\n",
       "\n",
       "[113679 rows x 3 columns]"
      ]
     },
     "execution_count": 4,
     "metadata": {},
     "output_type": "execute_result"
    }
   ],
   "source": [
    "df_group"
   ]
  },
  {
   "cell_type": "code",
   "execution_count": 5,
   "id": "a3d231a6-7351-4a3f-a102-90f71ecfb38f",
   "metadata": {},
   "outputs": [
    {
     "name": "stdout",
     "output_type": "stream",
     "text": [
      "3603082\n",
      "(3603082, 16)\n"
     ]
    }
   ],
   "source": [
    "print(df_group['value'].sum())\n",
    "print(df.shape)"
   ]
  },
  {
   "cell_type": "code",
   "execution_count": 6,
   "id": "ace8d5db-3d51-483f-b063-ab6122e23b99",
   "metadata": {},
   "outputs": [
    {
     "data": {
      "text/plain": [
       "count    113679.000000\n",
       "mean         31.695230\n",
       "std         104.023444\n",
       "min           1.000000\n",
       "25%           2.000000\n",
       "50%           6.000000\n",
       "75%          23.000000\n",
       "max        8858.000000\n",
       "Name: value, dtype: float64"
      ]
     },
     "execution_count": 6,
     "metadata": {},
     "output_type": "execute_result"
    }
   ],
   "source": [
    "df_group['value'].describe()"
   ]
  },
  {
   "cell_type": "markdown",
   "id": "391583d9-7240-4d9f-a6eb-ec799b53a75b",
   "metadata": {},
   "source": [
    "### Some exploratory analysis into the trips"
   ]
  },
  {
   "cell_type": "code",
   "execution_count": 7,
   "id": "13292b08-2b4a-4d4e-adbd-be00f6c331c8",
   "metadata": {},
   "outputs": [
    {
     "data": {
      "image/png": "[encoded data removed]",
      "text/plain": [
       "<Figure size 640x480 with 1 Axes>"
      ]
     },
     "metadata": {},
     "output_type": "display_data"
    }
   ],
   "source": [
    "df_group['value'].hist(bins = 100)\n",
    "plt.show()"
   ]
  },
  {
   "cell_type": "code",
   "execution_count": 8,
   "id": "74bf1084-360a-49b7-9a66-8ded659e2df7",
   "metadata": {},
   "outputs": [
    {
     "data": {
      "text/plain": [
       "[]"
      ]
     },
     "execution_count": 8,
     "metadata": {},
     "output_type": "execute_result"
    },
    {
     "data": {
      "image/png": "[encoded data removed]",
      "text/plain": [
       "<Figure size 640x480 with 1 Axes>"
      ]
     },
     "metadata": {},
     "output_type": "display_data"
    }
   ],
   "source": [
    "b_plot = df_group.boxplot(column = 'value') \n",
    "b_plot.plot()"
   ]
  },
  {
   "cell_type": "code",
   "execution_count": 9,
   "id": "8dfacb41-27dc-450e-bdf7-7a280d457160",
   "metadata": {},
   "outputs": [
    {
     "data": {
      "text/plain": [
       "value\n",
       "1       23427\n",
       "2       13274\n",
       "3        8409\n",
       "4        6215\n",
       "5        4777\n",
       "        ...  \n",
       "1166        1\n",
       "592         1\n",
       "657         1\n",
       "607         1\n",
       "612         1\n",
       "Name: count, Length: 944, dtype: int64"
      ]
     },
     "execution_count": 9,
     "metadata": {},
     "output_type": "execute_result"
    }
   ],
   "source": [
    "df_group['value'].sort_index().value_counts()"
   ]
  },
  {
   "cell_type": "code",
   "execution_count": 10,
   "id": "92414711-8140-4fc6-bd83-13ffd256f08a",
   "metadata": {},
   "outputs": [],
   "source": [
    "df_group.to_csv('df_groupby_final.csv')"
   ]
  },
  {
   "cell_type": "code",
   "execution_count": 11,
   "id": "c295c21d-81da-4640-a4b9-2df6e228e651",
   "metadata": {},
   "outputs": [
    {
     "data": {
      "text/html": [
       "<div>\n",
       "<style scoped>\n",
       "    .dataframe tbody tr th:only-of-type {\n",
       "        vertical-align: middle;\n",
       "    }\n",
       "\n",
       "    .dataframe tbody tr th {\n",
       "        vertical-align: top;\n",
       "    }\n",
       "\n",
       "    .dataframe thead th {\n",
       "        text-align: right;\n",
       "    }\n",
       "</style>\n",
       "<table border=\"1\" class=\"dataframe\">\n",
       "  <thead>\n",
       "    <tr style=\"text-align: right;\">\n",
       "      <th></th>\n",
       "      <th>from_station_name</th>\n",
       "      <th>to_station_name</th>\n",
       "      <th>value</th>\n",
       "    </tr>\n",
       "  </thead>\n",
       "  <tbody>\n",
       "    <tr>\n",
       "      <th>0</th>\n",
       "      <td>2112 W Peterson Ave</td>\n",
       "      <td>2112 W Peterson Ave</td>\n",
       "      <td>14</td>\n",
       "    </tr>\n",
       "    <tr>\n",
       "      <th>1</th>\n",
       "      <td>2112 W Peterson Ave</td>\n",
       "      <td>Ashland Ave &amp; Belle Plaine Ave</td>\n",
       "      <td>1</td>\n",
       "    </tr>\n",
       "    <tr>\n",
       "      <th>2</th>\n",
       "      <td>2112 W Peterson Ave</td>\n",
       "      <td>Avondale Ave &amp; Irving Park Rd</td>\n",
       "      <td>1</td>\n",
       "    </tr>\n",
       "    <tr>\n",
       "      <th>3</th>\n",
       "      <td>2112 W Peterson Ave</td>\n",
       "      <td>Benson Ave &amp; Church St</td>\n",
       "      <td>2</td>\n",
       "    </tr>\n",
       "    <tr>\n",
       "      <th>4</th>\n",
       "      <td>2112 W Peterson Ave</td>\n",
       "      <td>Broadway &amp; Argyle St</td>\n",
       "      <td>2</td>\n",
       "    </tr>\n",
       "  </tbody>\n",
       "</table>\n",
       "</div>"
      ],
      "text/plain": [
       "     from_station_name                 to_station_name  value\n",
       "0  2112 W Peterson Ave             2112 W Peterson Ave     14\n",
       "1  2112 W Peterson Ave  Ashland Ave & Belle Plaine Ave      1\n",
       "2  2112 W Peterson Ave   Avondale Ave & Irving Park Rd      1\n",
       "3  2112 W Peterson Ave          Benson Ave & Church St      2\n",
       "4  2112 W Peterson Ave            Broadway & Argyle St      2"
      ]
     },
     "execution_count": 11,
     "metadata": {},
     "output_type": "execute_result"
    }
   ],
   "source": [
    "df_group.head()"
   ]
  },
  {
   "cell_type": "code",
   "execution_count": 12,
   "id": "d9680ac0-764c-4643-8f23-cd69b26a37a8",
   "metadata": {},
   "outputs": [],
   "source": [
    "df_group.rename(columns = {'from_station_name':'start_station_name','to_station_name' : 'end_station_name',\n",
    "                          'value': 'trips'}, inplace = True)"
   ]
  },
  {
   "cell_type": "markdown",
   "id": "36cf7eb6-1c3b-4110-8b99-9f194d351bd3",
   "metadata": {
    "tags": []
   },
   "source": [
    "## Merge data to create latitude and longitude - only for Chicago"
   ]
  },
  {
   "cell_type": "markdown",
   "id": "8d327fee-daf3-4ced-9a49-e00e35727b62",
   "metadata": {
    "tags": []
   },
   "source": [
    "#### Import location data - only for Chicago"
   ]
  },
  {
   "cell_type": "code",
   "execution_count": 13,
   "id": "2124722d-0354-422c-bd98-3cd9f4ad877a",
   "metadata": {},
   "outputs": [],
   "source": [
    "# Load location data\n",
    "\n",
    "df_stations = pd.read_csv(r\"C:\\Users\\mojos\\Documents\\Career Foundry Course\\CF Specialization\\NYC_2022-Bike-Share-Analysis\\Divvy_Bicycle_Stations_20240809.csv\", index_col = 0)\n",
    "\n",
    "# Source: https://data.cityofchicago.org/Transportation/Divvy-Bicycle-Stations/bbyy-e7gq"
   ]
  },
  {
   "cell_type": "code",
   "execution_count": 14,
   "id": "ed8d74dd",
   "metadata": {},
   "outputs": [
    {
     "data": {
      "text/html": [
       "<div>\n",
       "<style scoped>\n",
       "    .dataframe tbody tr th:only-of-type {\n",
       "        vertical-align: middle;\n",
       "    }\n",
       "\n",
       "    .dataframe tbody tr th {\n",
       "        vertical-align: top;\n",
       "    }\n",
       "\n",
       "    .dataframe thead th {\n",
       "        text-align: right;\n",
       "    }\n",
       "</style>\n",
       "<table border=\"1\" class=\"dataframe\">\n",
       "  <thead>\n",
       "    <tr style=\"text-align: right;\">\n",
       "      <th></th>\n",
       "      <th>Station Name</th>\n",
       "      <th>Short Name</th>\n",
       "      <th>Total Docks</th>\n",
       "      <th>Docks in Service</th>\n",
       "      <th>Status</th>\n",
       "      <th>Latitude</th>\n",
       "      <th>Longitude</th>\n",
       "      <th>Location</th>\n",
       "    </tr>\n",
       "    <tr>\n",
       "      <th>ID</th>\n",
       "      <th></th>\n",
       "      <th></th>\n",
       "      <th></th>\n",
       "      <th></th>\n",
       "      <th></th>\n",
       "      <th></th>\n",
       "      <th></th>\n",
       "      <th></th>\n",
       "    </tr>\n",
       "  </thead>\n",
       "  <tbody>\n",
       "    <tr>\n",
       "      <th>a3ad5c90-a135-11e9-9cda-0a87ae2ba916</th>\n",
       "      <td>Dorchester Ave &amp; 49th St</td>\n",
       "      <td>KA1503000069</td>\n",
       "      <td>15</td>\n",
       "      <td>15</td>\n",
       "      <td>In Service</td>\n",
       "      <td>41.805772</td>\n",
       "      <td>-87.592464</td>\n",
       "      <td>POINT (-87.592464 41.805772)</td>\n",
       "    </tr>\n",
       "    <tr>\n",
       "      <th>1571105068000485406</th>\n",
       "      <td>Narragansett &amp; Irving Park</td>\n",
       "      <td>NaN</td>\n",
       "      <td>9</td>\n",
       "      <td>9</td>\n",
       "      <td>In Service</td>\n",
       "      <td>41.952614</td>\n",
       "      <td>-87.785383</td>\n",
       "      <td>POINT (-87.7853829 41.952614)</td>\n",
       "    </tr>\n",
       "    <tr>\n",
       "      <th>a3b2af02-a135-11e9-9cda-0a87ae2ba916</th>\n",
       "      <td>MLK Jr Dr &amp; 83rd St</td>\n",
       "      <td>586</td>\n",
       "      <td>11</td>\n",
       "      <td>11</td>\n",
       "      <td>In Service</td>\n",
       "      <td>41.743116</td>\n",
       "      <td>-87.614800</td>\n",
       "      <td>POINT (-87.6148 41.743116)</td>\n",
       "    </tr>\n",
       "    <tr>\n",
       "      <th>1594046405283107528</th>\n",
       "      <td>California &amp; 16th St</td>\n",
       "      <td>NaN</td>\n",
       "      <td>9</td>\n",
       "      <td>9</td>\n",
       "      <td>In Service</td>\n",
       "      <td>41.859228</td>\n",
       "      <td>-87.695562</td>\n",
       "      <td>POINT (-87.695562 41.859228)</td>\n",
       "    </tr>\n",
       "    <tr>\n",
       "      <th>a3b13836-a135-11e9-9cda-0a87ae2ba916</th>\n",
       "      <td>Kenton Ave &amp; Madison St</td>\n",
       "      <td>537</td>\n",
       "      <td>11</td>\n",
       "      <td>11</td>\n",
       "      <td>In Service</td>\n",
       "      <td>41.880708</td>\n",
       "      <td>-87.741018</td>\n",
       "      <td>POINT (-87.741018 41.880708)</td>\n",
       "    </tr>\n",
       "  </tbody>\n",
       "</table>\n",
       "</div>"
      ],
      "text/plain": [
       "                                                    Station Name  \\\n",
       "ID                                                                 \n",
       "a3ad5c90-a135-11e9-9cda-0a87ae2ba916    Dorchester Ave & 49th St   \n",
       "1571105068000485406                   Narragansett & Irving Park   \n",
       "a3b2af02-a135-11e9-9cda-0a87ae2ba916         MLK Jr Dr & 83rd St   \n",
       "1594046405283107528                         California & 16th St   \n",
       "a3b13836-a135-11e9-9cda-0a87ae2ba916     Kenton Ave & Madison St   \n",
       "\n",
       "                                        Short Name  Total Docks  \\\n",
       "ID                                                                \n",
       "a3ad5c90-a135-11e9-9cda-0a87ae2ba916  KA1503000069           15   \n",
       "1571105068000485406                            NaN            9   \n",
       "a3b2af02-a135-11e9-9cda-0a87ae2ba916           586           11   \n",
       "1594046405283107528                            NaN            9   \n",
       "a3b13836-a135-11e9-9cda-0a87ae2ba916           537           11   \n",
       "\n",
       "                                      Docks in Service      Status   Latitude  \\\n",
       "ID                                                                              \n",
       "a3ad5c90-a135-11e9-9cda-0a87ae2ba916                15  In Service  41.805772   \n",
       "1571105068000485406                                  9  In Service  41.952614   \n",
       "a3b2af02-a135-11e9-9cda-0a87ae2ba916                11  In Service  41.743116   \n",
       "1594046405283107528                                  9  In Service  41.859228   \n",
       "a3b13836-a135-11e9-9cda-0a87ae2ba916                11  In Service  41.880708   \n",
       "\n",
       "                                      Longitude                       Location  \n",
       "ID                                                                              \n",
       "a3ad5c90-a135-11e9-9cda-0a87ae2ba916 -87.592464   POINT (-87.592464 41.805772)  \n",
       "1571105068000485406                  -87.785383  POINT (-87.7853829 41.952614)  \n",
       "a3b2af02-a135-11e9-9cda-0a87ae2ba916 -87.614800     POINT (-87.6148 41.743116)  \n",
       "1594046405283107528                  -87.695562   POINT (-87.695562 41.859228)  \n",
       "a3b13836-a135-11e9-9cda-0a87ae2ba916 -87.741018   POINT (-87.741018 41.880708)  "
      ]
     },
     "execution_count": 14,
     "metadata": {},
     "output_type": "execute_result"
    }
   ],
   "source": [
    "df_stations.head()"
   ]
  },
  {
   "cell_type": "code",
   "execution_count": 15,
   "id": "c0f549fa-3b31-40ec-a1f3-a09a59a43404",
   "metadata": {},
   "outputs": [],
   "source": [
    "df_stations['start_station_name'] = df_stations['Station Name']"
   ]
  },
  {
   "cell_type": "code",
   "execution_count": 16,
   "id": "550c56b2-c398-47c0-a631-19dcd5024da2",
   "metadata": {},
   "outputs": [
    {
     "data": {
      "text/html": [
       "<div>\n",
       "<style scoped>\n",
       "    .dataframe tbody tr th:only-of-type {\n",
       "        vertical-align: middle;\n",
       "    }\n",
       "\n",
       "    .dataframe tbody tr th {\n",
       "        vertical-align: top;\n",
       "    }\n",
       "\n",
       "    .dataframe thead th {\n",
       "        text-align: right;\n",
       "    }\n",
       "</style>\n",
       "<table border=\"1\" class=\"dataframe\">\n",
       "  <thead>\n",
       "    <tr style=\"text-align: right;\">\n",
       "      <th></th>\n",
       "      <th>Station Name</th>\n",
       "      <th>Short Name</th>\n",
       "      <th>Total Docks</th>\n",
       "      <th>Docks in Service</th>\n",
       "      <th>Status</th>\n",
       "      <th>Latitude</th>\n",
       "      <th>Longitude</th>\n",
       "      <th>Location</th>\n",
       "      <th>start_station_name</th>\n",
       "    </tr>\n",
       "    <tr>\n",
       "      <th>ID</th>\n",
       "      <th></th>\n",
       "      <th></th>\n",
       "      <th></th>\n",
       "      <th></th>\n",
       "      <th></th>\n",
       "      <th></th>\n",
       "      <th></th>\n",
       "      <th></th>\n",
       "      <th></th>\n",
       "    </tr>\n",
       "  </thead>\n",
       "  <tbody>\n",
       "    <tr>\n",
       "      <th>a3ad5c90-a135-11e9-9cda-0a87ae2ba916</th>\n",
       "      <td>Dorchester Ave &amp; 49th St</td>\n",
       "      <td>KA1503000069</td>\n",
       "      <td>15</td>\n",
       "      <td>15</td>\n",
       "      <td>In Service</td>\n",
       "      <td>41.805772</td>\n",
       "      <td>-87.592464</td>\n",
       "      <td>POINT (-87.592464 41.805772)</td>\n",
       "      <td>Dorchester Ave &amp; 49th St</td>\n",
       "    </tr>\n",
       "    <tr>\n",
       "      <th>1571105068000485406</th>\n",
       "      <td>Narragansett &amp; Irving Park</td>\n",
       "      <td>NaN</td>\n",
       "      <td>9</td>\n",
       "      <td>9</td>\n",
       "      <td>In Service</td>\n",
       "      <td>41.952614</td>\n",
       "      <td>-87.785383</td>\n",
       "      <td>POINT (-87.7853829 41.952614)</td>\n",
       "      <td>Narragansett &amp; Irving Park</td>\n",
       "    </tr>\n",
       "    <tr>\n",
       "      <th>a3b2af02-a135-11e9-9cda-0a87ae2ba916</th>\n",
       "      <td>MLK Jr Dr &amp; 83rd St</td>\n",
       "      <td>586</td>\n",
       "      <td>11</td>\n",
       "      <td>11</td>\n",
       "      <td>In Service</td>\n",
       "      <td>41.743116</td>\n",
       "      <td>-87.614800</td>\n",
       "      <td>POINT (-87.6148 41.743116)</td>\n",
       "      <td>MLK Jr Dr &amp; 83rd St</td>\n",
       "    </tr>\n",
       "    <tr>\n",
       "      <th>1594046405283107528</th>\n",
       "      <td>California &amp; 16th St</td>\n",
       "      <td>NaN</td>\n",
       "      <td>9</td>\n",
       "      <td>9</td>\n",
       "      <td>In Service</td>\n",
       "      <td>41.859228</td>\n",
       "      <td>-87.695562</td>\n",
       "      <td>POINT (-87.695562 41.859228)</td>\n",
       "      <td>California &amp; 16th St</td>\n",
       "    </tr>\n",
       "    <tr>\n",
       "      <th>a3b13836-a135-11e9-9cda-0a87ae2ba916</th>\n",
       "      <td>Kenton Ave &amp; Madison St</td>\n",
       "      <td>537</td>\n",
       "      <td>11</td>\n",
       "      <td>11</td>\n",
       "      <td>In Service</td>\n",
       "      <td>41.880708</td>\n",
       "      <td>-87.741018</td>\n",
       "      <td>POINT (-87.741018 41.880708)</td>\n",
       "      <td>Kenton Ave &amp; Madison St</td>\n",
       "    </tr>\n",
       "  </tbody>\n",
       "</table>\n",
       "</div>"
      ],
      "text/plain": [
       "                                                    Station Name  \\\n",
       "ID                                                                 \n",
       "a3ad5c90-a135-11e9-9cda-0a87ae2ba916    Dorchester Ave & 49th St   \n",
       "1571105068000485406                   Narragansett & Irving Park   \n",
       "a3b2af02-a135-11e9-9cda-0a87ae2ba916         MLK Jr Dr & 83rd St   \n",
       "1594046405283107528                         California & 16th St   \n",
       "a3b13836-a135-11e9-9cda-0a87ae2ba916     Kenton Ave & Madison St   \n",
       "\n",
       "                                        Short Name  Total Docks  \\\n",
       "ID                                                                \n",
       "a3ad5c90-a135-11e9-9cda-0a87ae2ba916  KA1503000069           15   \n",
       "1571105068000485406                            NaN            9   \n",
       "a3b2af02-a135-11e9-9cda-0a87ae2ba916           586           11   \n",
       "1594046405283107528                            NaN            9   \n",
       "a3b13836-a135-11e9-9cda-0a87ae2ba916           537           11   \n",
       "\n",
       "                                      Docks in Service      Status   Latitude  \\\n",
       "ID                                                                              \n",
       "a3ad5c90-a135-11e9-9cda-0a87ae2ba916                15  In Service  41.805772   \n",
       "1571105068000485406                                  9  In Service  41.952614   \n",
       "a3b2af02-a135-11e9-9cda-0a87ae2ba916                11  In Service  41.743116   \n",
       "1594046405283107528                                  9  In Service  41.859228   \n",
       "a3b13836-a135-11e9-9cda-0a87ae2ba916                11  In Service  41.880708   \n",
       "\n",
       "                                      Longitude  \\\n",
       "ID                                                \n",
       "a3ad5c90-a135-11e9-9cda-0a87ae2ba916 -87.592464   \n",
       "1571105068000485406                  -87.785383   \n",
       "a3b2af02-a135-11e9-9cda-0a87ae2ba916 -87.614800   \n",
       "1594046405283107528                  -87.695562   \n",
       "a3b13836-a135-11e9-9cda-0a87ae2ba916 -87.741018   \n",
       "\n",
       "                                                           Location  \\\n",
       "ID                                                                    \n",
       "a3ad5c90-a135-11e9-9cda-0a87ae2ba916   POINT (-87.592464 41.805772)   \n",
       "1571105068000485406                   POINT (-87.7853829 41.952614)   \n",
       "a3b2af02-a135-11e9-9cda-0a87ae2ba916     POINT (-87.6148 41.743116)   \n",
       "1594046405283107528                    POINT (-87.695562 41.859228)   \n",
       "a3b13836-a135-11e9-9cda-0a87ae2ba916   POINT (-87.741018 41.880708)   \n",
       "\n",
       "                                              start_station_name  \n",
       "ID                                                                \n",
       "a3ad5c90-a135-11e9-9cda-0a87ae2ba916    Dorchester Ave & 49th St  \n",
       "1571105068000485406                   Narragansett & Irving Park  \n",
       "a3b2af02-a135-11e9-9cda-0a87ae2ba916         MLK Jr Dr & 83rd St  \n",
       "1594046405283107528                         California & 16th St  \n",
       "a3b13836-a135-11e9-9cda-0a87ae2ba916     Kenton Ave & Madison St  "
      ]
     },
     "execution_count": 16,
     "metadata": {},
     "output_type": "execute_result"
    }
   ],
   "source": [
    "df_stations.head()"
   ]
  },
  {
   "cell_type": "code",
   "execution_count": 17,
   "id": "956238ab-18fb-4240-8136-1cfd99cf926a",
   "metadata": {},
   "outputs": [],
   "source": [
    "df_stations.rename(columns = {'Station Name': 'end_station_name'}, inplace = True)"
   ]
  },
  {
   "cell_type": "code",
   "execution_count": 18,
   "id": "95156f65-5925-4bbb-b80c-fc8c1c1470ae",
   "metadata": {},
   "outputs": [],
   "source": [
    "df_stations.reset_index(inplace = True)"
   ]
  },
  {
   "cell_type": "code",
   "execution_count": 19,
   "id": "9d72fffc-afba-4913-9d51-dd72d90b0ae3",
   "metadata": {},
   "outputs": [],
   "source": [
    "df_stations = df_stations[['end_station_name', 'start_station_name', 'Latitude', 'Longitude']]"
   ]
  },
  {
   "cell_type": "code",
   "execution_count": 20,
   "id": "982bc2b0-4e81-44c7-8c0e-3dbcd9210e8f",
   "metadata": {},
   "outputs": [
    {
     "data": {
      "text/html": [
       "<div>\n",
       "<style scoped>\n",
       "    .dataframe tbody tr th:only-of-type {\n",
       "        vertical-align: middle;\n",
       "    }\n",
       "\n",
       "    .dataframe tbody tr th {\n",
       "        vertical-align: top;\n",
       "    }\n",
       "\n",
       "    .dataframe thead th {\n",
       "        text-align: right;\n",
       "    }\n",
       "</style>\n",
       "<table border=\"1\" class=\"dataframe\">\n",
       "  <thead>\n",
       "    <tr style=\"text-align: right;\">\n",
       "      <th></th>\n",
       "      <th>end_station_name</th>\n",
       "      <th>start_station_name</th>\n",
       "      <th>Latitude</th>\n",
       "      <th>Longitude</th>\n",
       "    </tr>\n",
       "  </thead>\n",
       "  <tbody>\n",
       "    <tr>\n",
       "      <th>0</th>\n",
       "      <td>Dorchester Ave &amp; 49th St</td>\n",
       "      <td>Dorchester Ave &amp; 49th St</td>\n",
       "      <td>41.805772</td>\n",
       "      <td>-87.592464</td>\n",
       "    </tr>\n",
       "    <tr>\n",
       "      <th>1</th>\n",
       "      <td>Narragansett &amp; Irving Park</td>\n",
       "      <td>Narragansett &amp; Irving Park</td>\n",
       "      <td>41.952614</td>\n",
       "      <td>-87.785383</td>\n",
       "    </tr>\n",
       "    <tr>\n",
       "      <th>2</th>\n",
       "      <td>MLK Jr Dr &amp; 83rd St</td>\n",
       "      <td>MLK Jr Dr &amp; 83rd St</td>\n",
       "      <td>41.743116</td>\n",
       "      <td>-87.614800</td>\n",
       "    </tr>\n",
       "    <tr>\n",
       "      <th>3</th>\n",
       "      <td>California &amp; 16th St</td>\n",
       "      <td>California &amp; 16th St</td>\n",
       "      <td>41.859228</td>\n",
       "      <td>-87.695562</td>\n",
       "    </tr>\n",
       "    <tr>\n",
       "      <th>4</th>\n",
       "      <td>Kenton Ave &amp; Madison St</td>\n",
       "      <td>Kenton Ave &amp; Madison St</td>\n",
       "      <td>41.880708</td>\n",
       "      <td>-87.741018</td>\n",
       "    </tr>\n",
       "    <tr>\n",
       "      <th>...</th>\n",
       "      <td>...</td>\n",
       "      <td>...</td>\n",
       "      <td>...</td>\n",
       "      <td>...</td>\n",
       "    </tr>\n",
       "    <tr>\n",
       "      <th>994</th>\n",
       "      <td>Oakley Ave &amp; Irving Park Rd</td>\n",
       "      <td>Oakley Ave &amp; Irving Park Rd</td>\n",
       "      <td>41.954341</td>\n",
       "      <td>-87.686080</td>\n",
       "    </tr>\n",
       "    <tr>\n",
       "      <th>995</th>\n",
       "      <td>Doty Ave &amp; 111th St</td>\n",
       "      <td>Doty Ave &amp; 111th St</td>\n",
       "      <td>41.695010</td>\n",
       "      <td>-87.598715</td>\n",
       "    </tr>\n",
       "    <tr>\n",
       "      <th>996</th>\n",
       "      <td>Eberhart Ave &amp; 131st St</td>\n",
       "      <td>Eberhart Ave &amp; 131st St</td>\n",
       "      <td>41.658413</td>\n",
       "      <td>-87.610711</td>\n",
       "    </tr>\n",
       "    <tr>\n",
       "      <th>997</th>\n",
       "      <td>Eberhart Ave &amp; 91st St</td>\n",
       "      <td>Eberhart Ave &amp; 91st St</td>\n",
       "      <td>41.729285</td>\n",
       "      <td>-87.611032</td>\n",
       "    </tr>\n",
       "    <tr>\n",
       "      <th>998</th>\n",
       "      <td>Halsted St &amp; 47th Pl</td>\n",
       "      <td>Halsted St &amp; 47th Pl</td>\n",
       "      <td>41.808134</td>\n",
       "      <td>-87.645617</td>\n",
       "    </tr>\n",
       "  </tbody>\n",
       "</table>\n",
       "<p>999 rows × 4 columns</p>\n",
       "</div>"
      ],
      "text/plain": [
       "                end_station_name           start_station_name   Latitude  \\\n",
       "0       Dorchester Ave & 49th St     Dorchester Ave & 49th St  41.805772   \n",
       "1     Narragansett & Irving Park   Narragansett & Irving Park  41.952614   \n",
       "2            MLK Jr Dr & 83rd St          MLK Jr Dr & 83rd St  41.743116   \n",
       "3           California & 16th St         California & 16th St  41.859228   \n",
       "4        Kenton Ave & Madison St      Kenton Ave & Madison St  41.880708   \n",
       "..                           ...                          ...        ...   \n",
       "994  Oakley Ave & Irving Park Rd  Oakley Ave & Irving Park Rd  41.954341   \n",
       "995          Doty Ave & 111th St          Doty Ave & 111th St  41.695010   \n",
       "996      Eberhart Ave & 131st St      Eberhart Ave & 131st St  41.658413   \n",
       "997       Eberhart Ave & 91st St       Eberhart Ave & 91st St  41.729285   \n",
       "998         Halsted St & 47th Pl         Halsted St & 47th Pl  41.808134   \n",
       "\n",
       "     Longitude  \n",
       "0   -87.592464  \n",
       "1   -87.785383  \n",
       "2   -87.614800  \n",
       "3   -87.695562  \n",
       "4   -87.741018  \n",
       "..         ...  \n",
       "994 -87.686080  \n",
       "995 -87.598715  \n",
       "996 -87.610711  \n",
       "997 -87.611032  \n",
       "998 -87.645617  \n",
       "\n",
       "[999 rows x 4 columns]"
      ]
     },
     "execution_count": 20,
     "metadata": {},
     "output_type": "execute_result"
    }
   ],
   "source": [
    "df_stations"
   ]
  },
  {
   "cell_type": "markdown",
   "id": "d20a6ed8-dd2c-4962-918a-358501116ad7",
   "metadata": {
    "tags": []
   },
   "source": [
    "##### _By start station_"
   ]
  },
  {
   "cell_type": "code",
   "execution_count": 21,
   "id": "db59a01f-3ca4-4b77-8a55-3769afd1e401",
   "metadata": {},
   "outputs": [],
   "source": [
    "df_m = df_group.merge(df_stations, how = 'outer', on = \"start_station_name\", indicator = 'merge_flag')"
   ]
  },
  {
   "cell_type": "code",
   "execution_count": 22,
   "id": "7563a77b-e651-4d4d-8ffa-6506bad380ed",
   "metadata": {},
   "outputs": [
    {
     "data": {
      "text/plain": [
       "merge_flag\n",
       "both          100966\n",
       "left_only      12713\n",
       "right_only       457\n",
       "Name: count, dtype: int64"
      ]
     },
     "execution_count": 22,
     "metadata": {},
     "output_type": "execute_result"
    }
   ],
   "source": [
    "df_m['merge_flag'].value_counts(dropna = False)"
   ]
  },
  {
   "cell_type": "code",
   "execution_count": 23,
   "id": "34e397d4-7565-475f-9eb9-6217de348bac",
   "metadata": {},
   "outputs": [],
   "source": [
    "df_m = df_m[df_m['merge_flag'] =='both']"
   ]
  },
  {
   "cell_type": "code",
   "execution_count": 24,
   "id": "75b65502-dee2-453c-a4a1-72f7bd17a26f",
   "metadata": {},
   "outputs": [
    {
     "data": {
      "text/plain": [
       "(100966, 7)"
      ]
     },
     "execution_count": 24,
     "metadata": {},
     "output_type": "execute_result"
    }
   ],
   "source": [
    "df_m.shape"
   ]
  },
  {
   "cell_type": "code",
   "execution_count": 25,
   "id": "93f2d14b-597b-4d54-9d5c-9432fe0e5734",
   "metadata": {},
   "outputs": [
    {
     "data": {
      "text/html": [
       "<div>\n",
       "<style scoped>\n",
       "    .dataframe tbody tr th:only-of-type {\n",
       "        vertical-align: middle;\n",
       "    }\n",
       "\n",
       "    .dataframe tbody tr th {\n",
       "        vertical-align: top;\n",
       "    }\n",
       "\n",
       "    .dataframe thead th {\n",
       "        text-align: right;\n",
       "    }\n",
       "</style>\n",
       "<table border=\"1\" class=\"dataframe\">\n",
       "  <thead>\n",
       "    <tr style=\"text-align: right;\">\n",
       "      <th></th>\n",
       "      <th>start_station_name</th>\n",
       "      <th>end_station_name_x</th>\n",
       "      <th>trips</th>\n",
       "      <th>end_station_name_y</th>\n",
       "      <th>Latitude</th>\n",
       "      <th>Longitude</th>\n",
       "      <th>merge_flag</th>\n",
       "    </tr>\n",
       "  </thead>\n",
       "  <tbody>\n",
       "    <tr>\n",
       "      <th>0</th>\n",
       "      <td>2112 W Peterson Ave</td>\n",
       "      <td>2112 W Peterson Ave</td>\n",
       "      <td>14.0</td>\n",
       "      <td>2112 W Peterson Ave</td>\n",
       "      <td>41.991178</td>\n",
       "      <td>-87.683593</td>\n",
       "      <td>both</td>\n",
       "    </tr>\n",
       "    <tr>\n",
       "      <th>1</th>\n",
       "      <td>2112 W Peterson Ave</td>\n",
       "      <td>Ashland Ave &amp; Belle Plaine Ave</td>\n",
       "      <td>1.0</td>\n",
       "      <td>2112 W Peterson Ave</td>\n",
       "      <td>41.991178</td>\n",
       "      <td>-87.683593</td>\n",
       "      <td>both</td>\n",
       "    </tr>\n",
       "    <tr>\n",
       "      <th>2</th>\n",
       "      <td>2112 W Peterson Ave</td>\n",
       "      <td>Avondale Ave &amp; Irving Park Rd</td>\n",
       "      <td>1.0</td>\n",
       "      <td>2112 W Peterson Ave</td>\n",
       "      <td>41.991178</td>\n",
       "      <td>-87.683593</td>\n",
       "      <td>both</td>\n",
       "    </tr>\n",
       "    <tr>\n",
       "      <th>3</th>\n",
       "      <td>2112 W Peterson Ave</td>\n",
       "      <td>Benson Ave &amp; Church St</td>\n",
       "      <td>2.0</td>\n",
       "      <td>2112 W Peterson Ave</td>\n",
       "      <td>41.991178</td>\n",
       "      <td>-87.683593</td>\n",
       "      <td>both</td>\n",
       "    </tr>\n",
       "    <tr>\n",
       "      <th>4</th>\n",
       "      <td>2112 W Peterson Ave</td>\n",
       "      <td>Broadway &amp; Argyle St</td>\n",
       "      <td>2.0</td>\n",
       "      <td>2112 W Peterson Ave</td>\n",
       "      <td>41.991178</td>\n",
       "      <td>-87.683593</td>\n",
       "      <td>both</td>\n",
       "    </tr>\n",
       "  </tbody>\n",
       "</table>\n",
       "</div>"
      ],
      "text/plain": [
       "    start_station_name              end_station_name_x  trips  \\\n",
       "0  2112 W Peterson Ave             2112 W Peterson Ave   14.0   \n",
       "1  2112 W Peterson Ave  Ashland Ave & Belle Plaine Ave    1.0   \n",
       "2  2112 W Peterson Ave   Avondale Ave & Irving Park Rd    1.0   \n",
       "3  2112 W Peterson Ave          Benson Ave & Church St    2.0   \n",
       "4  2112 W Peterson Ave            Broadway & Argyle St    2.0   \n",
       "\n",
       "    end_station_name_y   Latitude  Longitude merge_flag  \n",
       "0  2112 W Peterson Ave  41.991178 -87.683593       both  \n",
       "1  2112 W Peterson Ave  41.991178 -87.683593       both  \n",
       "2  2112 W Peterson Ave  41.991178 -87.683593       both  \n",
       "3  2112 W Peterson Ave  41.991178 -87.683593       both  \n",
       "4  2112 W Peterson Ave  41.991178 -87.683593       both  "
      ]
     },
     "execution_count": 25,
     "metadata": {},
     "output_type": "execute_result"
    }
   ],
   "source": [
    "df_m.head()"
   ]
  },
  {
   "cell_type": "code",
   "execution_count": 26,
   "id": "ef573df0-b66a-4071-92e5-702538428a28",
   "metadata": {
    "tags": []
   },
   "outputs": [],
   "source": [
    "df_m.drop(columns = {'end_station_name_y'}, inplace = True)"
   ]
  },
  {
   "cell_type": "code",
   "execution_count": 27,
   "id": "9d4a2827-ec71-450a-9160-37344ae7a8b2",
   "metadata": {},
   "outputs": [],
   "source": [
    "df_m.rename(columns = {'end_station_name_x' : 'end_station_name'}, inplace = True)"
   ]
  },
  {
   "cell_type": "markdown",
   "id": "7c90b011-feef-4b85-ac53-141d50adfcd6",
   "metadata": {},
   "source": [
    "##### _By end station_"
   ]
  },
  {
   "cell_type": "code",
   "execution_count": 28,
   "id": "1527111d-6868-4688-9e4a-34472a2af085",
   "metadata": {},
   "outputs": [],
   "source": [
    "df_final = df_m.merge(df_stations, how = 'outer', on = \"end_station_name\", indicator = 'merge_flag_2')"
   ]
  },
  {
   "cell_type": "code",
   "execution_count": 29,
   "id": "9b60994c-ab66-49bf-87d3-c1e1d405d67b",
   "metadata": {},
   "outputs": [
    {
     "data": {
      "text/plain": [
       "merge_flag_2\n",
       "both          89871\n",
       "left_only     11095\n",
       "right_only      459\n",
       "Name: count, dtype: int64"
      ]
     },
     "execution_count": 29,
     "metadata": {},
     "output_type": "execute_result"
    }
   ],
   "source": [
    "df_final['merge_flag_2'].value_counts(dropna = False)"
   ]
  },
  {
   "cell_type": "code",
   "execution_count": 30,
   "id": "f6b79ea4-740f-46ec-a686-08dd339e8b59",
   "metadata": {},
   "outputs": [
    {
     "data": {
      "text/html": [
       "<div>\n",
       "<style scoped>\n",
       "    .dataframe tbody tr th:only-of-type {\n",
       "        vertical-align: middle;\n",
       "    }\n",
       "\n",
       "    .dataframe tbody tr th {\n",
       "        vertical-align: top;\n",
       "    }\n",
       "\n",
       "    .dataframe thead th {\n",
       "        text-align: right;\n",
       "    }\n",
       "</style>\n",
       "<table border=\"1\" class=\"dataframe\">\n",
       "  <thead>\n",
       "    <tr style=\"text-align: right;\">\n",
       "      <th></th>\n",
       "      <th>start_station_name_x</th>\n",
       "      <th>end_station_name</th>\n",
       "      <th>trips</th>\n",
       "      <th>Latitude_x</th>\n",
       "      <th>Longitude_x</th>\n",
       "      <th>merge_flag</th>\n",
       "      <th>start_station_name_y</th>\n",
       "      <th>Latitude_y</th>\n",
       "      <th>Longitude_y</th>\n",
       "      <th>merge_flag_2</th>\n",
       "    </tr>\n",
       "  </thead>\n",
       "  <tbody>\n",
       "    <tr>\n",
       "      <th>0</th>\n",
       "      <td>2112 W Peterson Ave</td>\n",
       "      <td>2112 W Peterson Ave</td>\n",
       "      <td>14.0</td>\n",
       "      <td>41.991178</td>\n",
       "      <td>-87.683593</td>\n",
       "      <td>both</td>\n",
       "      <td>2112 W Peterson Ave</td>\n",
       "      <td>41.991178</td>\n",
       "      <td>-87.683593</td>\n",
       "      <td>both</td>\n",
       "    </tr>\n",
       "    <tr>\n",
       "      <th>1</th>\n",
       "      <td>Ashland Ave &amp; Belle Plaine Ave</td>\n",
       "      <td>2112 W Peterson Ave</td>\n",
       "      <td>1.0</td>\n",
       "      <td>41.956057</td>\n",
       "      <td>-87.668835</td>\n",
       "      <td>both</td>\n",
       "      <td>2112 W Peterson Ave</td>\n",
       "      <td>41.991178</td>\n",
       "      <td>-87.683593</td>\n",
       "      <td>both</td>\n",
       "    </tr>\n",
       "    <tr>\n",
       "      <th>2</th>\n",
       "      <td>Avondale Ave &amp; Irving Park Rd</td>\n",
       "      <td>2112 W Peterson Ave</td>\n",
       "      <td>1.0</td>\n",
       "      <td>41.953393</td>\n",
       "      <td>-87.732002</td>\n",
       "      <td>both</td>\n",
       "      <td>2112 W Peterson Ave</td>\n",
       "      <td>41.991178</td>\n",
       "      <td>-87.683593</td>\n",
       "      <td>both</td>\n",
       "    </tr>\n",
       "    <tr>\n",
       "      <th>3</th>\n",
       "      <td>Broadway &amp; Barry Ave</td>\n",
       "      <td>2112 W Peterson Ave</td>\n",
       "      <td>5.0</td>\n",
       "      <td>41.937582</td>\n",
       "      <td>-87.644098</td>\n",
       "      <td>both</td>\n",
       "      <td>2112 W Peterson Ave</td>\n",
       "      <td>41.991178</td>\n",
       "      <td>-87.683593</td>\n",
       "      <td>both</td>\n",
       "    </tr>\n",
       "    <tr>\n",
       "      <th>4</th>\n",
       "      <td>Broadway &amp; Berwyn Ave</td>\n",
       "      <td>2112 W Peterson Ave</td>\n",
       "      <td>6.0</td>\n",
       "      <td>41.978361</td>\n",
       "      <td>-87.659789</td>\n",
       "      <td>both</td>\n",
       "      <td>2112 W Peterson Ave</td>\n",
       "      <td>41.991178</td>\n",
       "      <td>-87.683593</td>\n",
       "      <td>both</td>\n",
       "    </tr>\n",
       "  </tbody>\n",
       "</table>\n",
       "</div>"
      ],
      "text/plain": [
       "             start_station_name_x     end_station_name  trips  Latitude_x  \\\n",
       "0             2112 W Peterson Ave  2112 W Peterson Ave   14.0   41.991178   \n",
       "1  Ashland Ave & Belle Plaine Ave  2112 W Peterson Ave    1.0   41.956057   \n",
       "2   Avondale Ave & Irving Park Rd  2112 W Peterson Ave    1.0   41.953393   \n",
       "3            Broadway & Barry Ave  2112 W Peterson Ave    5.0   41.937582   \n",
       "4           Broadway & Berwyn Ave  2112 W Peterson Ave    6.0   41.978361   \n",
       "\n",
       "   Longitude_x merge_flag start_station_name_y  Latitude_y  Longitude_y  \\\n",
       "0   -87.683593       both  2112 W Peterson Ave   41.991178   -87.683593   \n",
       "1   -87.668835       both  2112 W Peterson Ave   41.991178   -87.683593   \n",
       "2   -87.732002       both  2112 W Peterson Ave   41.991178   -87.683593   \n",
       "3   -87.644098       both  2112 W Peterson Ave   41.991178   -87.683593   \n",
       "4   -87.659789       both  2112 W Peterson Ave   41.991178   -87.683593   \n",
       "\n",
       "  merge_flag_2  \n",
       "0         both  \n",
       "1         both  \n",
       "2         both  \n",
       "3         both  \n",
       "4         both  "
      ]
     },
     "execution_count": 30,
     "metadata": {},
     "output_type": "execute_result"
    }
   ],
   "source": [
    "df_final.head()"
   ]
  },
  {
   "cell_type": "code",
   "execution_count": 31,
   "id": "f60a4834-5aed-41ab-a27e-f3e0954fd726",
   "metadata": {
    "tags": []
   },
   "outputs": [],
   "source": [
    "df_final = df_final[df_final['merge_flag_2'] =='both']"
   ]
  },
  {
   "cell_type": "code",
   "execution_count": 32,
   "id": "89398f69-002e-4afb-a6f8-7ba0aa0f5a97",
   "metadata": {
    "tags": []
   },
   "outputs": [],
   "source": [
    "df_final.drop(columns = {'start_station_name_y', 'merge_flag', 'merge_flag_2'}, inplace = True)"
   ]
  },
  {
   "cell_type": "code",
   "execution_count": 33,
   "id": "fd165792-c349-419a-97c6-267b8a58bad5",
   "metadata": {},
   "outputs": [],
   "source": [
    "df_final.rename(columns = {'start_station_name_x' : 'start_station_name'}, inplace = True)"
   ]
  },
  {
   "cell_type": "code",
   "execution_count": 34,
   "id": "7d2bf987-2c9d-4459-bd90-b39c5ea10288",
   "metadata": {},
   "outputs": [
    {
     "data": {
      "text/html": [
       "<div>\n",
       "<style scoped>\n",
       "    .dataframe tbody tr th:only-of-type {\n",
       "        vertical-align: middle;\n",
       "    }\n",
       "\n",
       "    .dataframe tbody tr th {\n",
       "        vertical-align: top;\n",
       "    }\n",
       "\n",
       "    .dataframe thead th {\n",
       "        text-align: right;\n",
       "    }\n",
       "</style>\n",
       "<table border=\"1\" class=\"dataframe\">\n",
       "  <thead>\n",
       "    <tr style=\"text-align: right;\">\n",
       "      <th></th>\n",
       "      <th>start_station_name</th>\n",
       "      <th>end_station_name</th>\n",
       "      <th>trips</th>\n",
       "      <th>Latitude_x</th>\n",
       "      <th>Longitude_x</th>\n",
       "      <th>Latitude_y</th>\n",
       "      <th>Longitude_y</th>\n",
       "    </tr>\n",
       "  </thead>\n",
       "  <tbody>\n",
       "    <tr>\n",
       "      <th>0</th>\n",
       "      <td>2112 W Peterson Ave</td>\n",
       "      <td>2112 W Peterson Ave</td>\n",
       "      <td>14.0</td>\n",
       "      <td>41.991178</td>\n",
       "      <td>-87.683593</td>\n",
       "      <td>41.991178</td>\n",
       "      <td>-87.683593</td>\n",
       "    </tr>\n",
       "    <tr>\n",
       "      <th>1</th>\n",
       "      <td>Ashland Ave &amp; Belle Plaine Ave</td>\n",
       "      <td>2112 W Peterson Ave</td>\n",
       "      <td>1.0</td>\n",
       "      <td>41.956057</td>\n",
       "      <td>-87.668835</td>\n",
       "      <td>41.991178</td>\n",
       "      <td>-87.683593</td>\n",
       "    </tr>\n",
       "    <tr>\n",
       "      <th>2</th>\n",
       "      <td>Avondale Ave &amp; Irving Park Rd</td>\n",
       "      <td>2112 W Peterson Ave</td>\n",
       "      <td>1.0</td>\n",
       "      <td>41.953393</td>\n",
       "      <td>-87.732002</td>\n",
       "      <td>41.991178</td>\n",
       "      <td>-87.683593</td>\n",
       "    </tr>\n",
       "    <tr>\n",
       "      <th>3</th>\n",
       "      <td>Broadway &amp; Barry Ave</td>\n",
       "      <td>2112 W Peterson Ave</td>\n",
       "      <td>5.0</td>\n",
       "      <td>41.937582</td>\n",
       "      <td>-87.644098</td>\n",
       "      <td>41.991178</td>\n",
       "      <td>-87.683593</td>\n",
       "    </tr>\n",
       "    <tr>\n",
       "      <th>4</th>\n",
       "      <td>Broadway &amp; Berwyn Ave</td>\n",
       "      <td>2112 W Peterson Ave</td>\n",
       "      <td>6.0</td>\n",
       "      <td>41.978361</td>\n",
       "      <td>-87.659789</td>\n",
       "      <td>41.991178</td>\n",
       "      <td>-87.683593</td>\n",
       "    </tr>\n",
       "  </tbody>\n",
       "</table>\n",
       "</div>"
      ],
      "text/plain": [
       "               start_station_name     end_station_name  trips  Latitude_x  \\\n",
       "0             2112 W Peterson Ave  2112 W Peterson Ave   14.0   41.991178   \n",
       "1  Ashland Ave & Belle Plaine Ave  2112 W Peterson Ave    1.0   41.956057   \n",
       "2   Avondale Ave & Irving Park Rd  2112 W Peterson Ave    1.0   41.953393   \n",
       "3            Broadway & Barry Ave  2112 W Peterson Ave    5.0   41.937582   \n",
       "4           Broadway & Berwyn Ave  2112 W Peterson Ave    6.0   41.978361   \n",
       "\n",
       "   Longitude_x  Latitude_y  Longitude_y  \n",
       "0   -87.683593   41.991178   -87.683593  \n",
       "1   -87.668835   41.991178   -87.683593  \n",
       "2   -87.732002   41.991178   -87.683593  \n",
       "3   -87.644098   41.991178   -87.683593  \n",
       "4   -87.659789   41.991178   -87.683593  "
      ]
     },
     "execution_count": 34,
     "metadata": {},
     "output_type": "execute_result"
    }
   ],
   "source": [
    "df_final.head()"
   ]
  },
  {
   "cell_type": "code",
   "execution_count": 35,
   "id": "642db7f8-e658-49a1-b141-bc5dfbeded77",
   "metadata": {},
   "outputs": [
    {
     "data": {
      "text/plain": [
       "6"
      ]
     },
     "execution_count": 35,
     "metadata": {},
     "output_type": "execute_result"
    }
   ],
   "source": [
    "import gc # this is garbage collector - speeds up performance\n",
    "gc.collect()"
   ]
  },
  {
   "cell_type": "code",
   "execution_count": 36,
   "id": "64f29bbe-1b42-4909-85bf-41015ef0f14d",
   "metadata": {},
   "outputs": [
    {
     "data": {
      "text/html": [
       "<div>\n",
       "<style scoped>\n",
       "    .dataframe tbody tr th:only-of-type {\n",
       "        vertical-align: middle;\n",
       "    }\n",
       "\n",
       "    .dataframe tbody tr th {\n",
       "        vertical-align: top;\n",
       "    }\n",
       "\n",
       "    .dataframe thead th {\n",
       "        text-align: right;\n",
       "    }\n",
       "</style>\n",
       "<table border=\"1\" class=\"dataframe\">\n",
       "  <thead>\n",
       "    <tr style=\"text-align: right;\">\n",
       "      <th></th>\n",
       "      <th>start_station_name</th>\n",
       "      <th>end_station_name</th>\n",
       "      <th>trips</th>\n",
       "      <th>Latitude_x</th>\n",
       "      <th>Longitude_x</th>\n",
       "      <th>Latitude_y</th>\n",
       "      <th>Longitude_y</th>\n",
       "    </tr>\n",
       "  </thead>\n",
       "  <tbody>\n",
       "    <tr>\n",
       "      <th>0</th>\n",
       "      <td>2112 W Peterson Ave</td>\n",
       "      <td>2112 W Peterson Ave</td>\n",
       "      <td>14.0</td>\n",
       "      <td>41.991178</td>\n",
       "      <td>-87.683593</td>\n",
       "      <td>41.991178</td>\n",
       "      <td>-87.683593</td>\n",
       "    </tr>\n",
       "    <tr>\n",
       "      <th>1</th>\n",
       "      <td>Ashland Ave &amp; Belle Plaine Ave</td>\n",
       "      <td>2112 W Peterson Ave</td>\n",
       "      <td>1.0</td>\n",
       "      <td>41.956057</td>\n",
       "      <td>-87.668835</td>\n",
       "      <td>41.991178</td>\n",
       "      <td>-87.683593</td>\n",
       "    </tr>\n",
       "    <tr>\n",
       "      <th>2</th>\n",
       "      <td>Avondale Ave &amp; Irving Park Rd</td>\n",
       "      <td>2112 W Peterson Ave</td>\n",
       "      <td>1.0</td>\n",
       "      <td>41.953393</td>\n",
       "      <td>-87.732002</td>\n",
       "      <td>41.991178</td>\n",
       "      <td>-87.683593</td>\n",
       "    </tr>\n",
       "    <tr>\n",
       "      <th>3</th>\n",
       "      <td>Broadway &amp; Barry Ave</td>\n",
       "      <td>2112 W Peterson Ave</td>\n",
       "      <td>5.0</td>\n",
       "      <td>41.937582</td>\n",
       "      <td>-87.644098</td>\n",
       "      <td>41.991178</td>\n",
       "      <td>-87.683593</td>\n",
       "    </tr>\n",
       "    <tr>\n",
       "      <th>4</th>\n",
       "      <td>Broadway &amp; Berwyn Ave</td>\n",
       "      <td>2112 W Peterson Ave</td>\n",
       "      <td>6.0</td>\n",
       "      <td>41.978361</td>\n",
       "      <td>-87.659789</td>\n",
       "      <td>41.991178</td>\n",
       "      <td>-87.683593</td>\n",
       "    </tr>\n",
       "  </tbody>\n",
       "</table>\n",
       "</div>"
      ],
      "text/plain": [
       "               start_station_name     end_station_name  trips  Latitude_x  \\\n",
       "0             2112 W Peterson Ave  2112 W Peterson Ave   14.0   41.991178   \n",
       "1  Ashland Ave & Belle Plaine Ave  2112 W Peterson Ave    1.0   41.956057   \n",
       "2   Avondale Ave & Irving Park Rd  2112 W Peterson Ave    1.0   41.953393   \n",
       "3            Broadway & Barry Ave  2112 W Peterson Ave    5.0   41.937582   \n",
       "4           Broadway & Berwyn Ave  2112 W Peterson Ave    6.0   41.978361   \n",
       "\n",
       "   Longitude_x  Latitude_y  Longitude_y  \n",
       "0   -87.683593   41.991178   -87.683593  \n",
       "1   -87.668835   41.991178   -87.683593  \n",
       "2   -87.732002   41.991178   -87.683593  \n",
       "3   -87.644098   41.991178   -87.683593  \n",
       "4   -87.659789   41.991178   -87.683593  "
      ]
     },
     "execution_count": 36,
     "metadata": {},
     "output_type": "execute_result"
    }
   ],
   "source": [
    "df_final.head()"
   ]
  },
  {
   "cell_type": "code",
   "execution_count": 37,
   "id": "a9f4f36b-84a1-440d-9b0c-1f771f79598d",
   "metadata": {},
   "outputs": [],
   "source": [
    "df_final.rename(columns = {'Latitude_x' : 'start_lat', 'Longitude_x' : 'start_lon', \n",
    "       'Latitude_y' : 'end_lat', 'Longitude_y' : 'end_lon',}, inplace = True)"
   ]
  },
  {
   "cell_type": "markdown",
   "id": "bac573ed-a47c-4522-a066-02dbd483a143",
   "metadata": {},
   "source": [
    "## PLot the map"
   ]
  },
  {
   "cell_type": "code",
   "execution_count": 38,
   "id": "b30a1ff4-a70b-42cc-b964-86d6736e0d7b",
   "metadata": {},
   "outputs": [],
   "source": [
    "df_final.to_csv('df_final_locations_for_map.csv')"
   ]
  },
  {
   "cell_type": "code",
   "execution_count": 39,
   "id": "aad1c479-1b94-4af9-b85e-e382c38b397f",
   "metadata": {},
   "outputs": [
    {
     "name": "stdout",
     "output_type": "stream",
     "text": [
      "User Guide: https://docs.kepler.gl/docs/keplergl-jupyter\n"
     ]
    },
    {
     "data": {
      "application/vnd.jupyter.widget-view+json": {
       "model_id": "548c0c19b6bc45438cf0dec9833d648d",
       "version_major": 2,
       "version_minor": 0
      },
      "text/plain": [
       "KeplerGl(data={'data_1':                     start_station_name      end_station_name  trips  \\\n",
       "0             …"
      ]
     },
     "metadata": {},
     "output_type": "display_data"
    }
   ],
   "source": [
    "# Create KeplerGl instance\n",
    "\n",
    "m = KeplerGl(height = 700, data={\"data_1\": df_final})\n",
    "m"
   ]
  },
  {
   "cell_type": "code",
   "execution_count": 40,
   "id": "47e4e38f-6ef2-47d2-aeec-8bedea2a5a4c",
   "metadata": {
    "tags": []
   },
   "outputs": [],
   "source": [
    "config = m.config"
   ]
  },
  {
   "cell_type": "code",
   "execution_count": 41,
   "id": "2c185e31-b3d6-48a0-97da-80949dae80c5",
   "metadata": {
    "jupyter": {
     "outputs_hidden": true
    },
    "tags": []
   },
   "outputs": [
    {
     "data": {
      "text/plain": [
       "{}"
      ]
     },
     "execution_count": 41,
     "metadata": {},
     "output_type": "execute_result"
    }
   ],
   "source": [
    "config"
   ]
  },
  {
   "cell_type": "code",
   "execution_count": 42,
   "id": "1d3b48de-e6ca-4bf1-a20b-82e85530f298",
   "metadata": {},
   "outputs": [],
   "source": [
    "import json\n",
    "with open(\"config.json\", \"w\") as outfile:\n",
    "    json.dump(config, outfile)"
   ]
  },
  {
   "cell_type": "code",
   "execution_count": 43,
   "id": "1359be63-fbd7-44b0-8841-c973ede15ace",
   "metadata": {},
   "outputs": [
    {
     "name": "stdout",
     "output_type": "stream",
     "text": [
      "Map saved to Divvy Bike Trips Aggregated.html!\n"
     ]
    }
   ],
   "source": [
    "m.save_to_html(file_name = 'Divvy Bike Trips Aggregated.html', read_only = False, config = config)"
   ]
  }
 ],
 "metadata": {
  "kernelspec": {
   "display_name": "Python [conda env:anaconda3-venv_nycbikes]",
   "language": "python",
   "name": "conda-env-anaconda3-venv_nycbikes-py"
  },
  "language_info": {
   "codemirror_mode": {
    "name": "ipython",
    "version": 3
   },
   "file_extension": ".py",
   "mimetype": "text/x-python",
   "name": "python",
   "nbconvert_exporter": "python",
   "pygments_lexer": "ipython3",
   "version": "3.12.4"
  }
 },
 "nbformat": 4,
 "nbformat_minor": 5
}
