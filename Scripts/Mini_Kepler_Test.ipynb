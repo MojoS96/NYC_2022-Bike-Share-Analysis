{
 "cells": [
  {
   "cell_type": "code",
   "execution_count": 4,
   "id": "8da792d5-e7d1-4272-b94b-f935aee80abc",
   "metadata": {
    "tags": []
   },
   "outputs": [
    {
     "name": "stdout",
     "output_type": "stream",
     "text": [
      "User Guide: https://docs.kepler.gl/docs/keplergl-jupyter\n"
     ]
    },
    {
     "data": {
      "application/vnd.jupyter.widget-view+json": {
       "model_id": "bc1aec154eae4914aa6351cf61c31485",
       "version_major": 2,
       "version_minor": 0
      },
      "text/plain": [
       "KeplerGl(data={'Cities': {'index': [0, 1, 2, 3], 'columns': ['latitude', 'longitude', 'city'], 'data': [[37.77…"
      ]
     },
     "metadata": {},
     "output_type": "display_data"
    }
   ],
   "source": [
    "from keplergl import KeplerGl\n",
    "import pandas as pd\n",
    "\n",
    "# Create a sample dataset\n",
    "data = {\n",
    "    'latitude': [37.7749, 34.0522, 40.7128, 51.5074],\n",
    "    'longitude': [-122.4194, -118.2437, -74.0060, -0.1278],\n",
    "    'city': ['San Francisco', 'Los Angeles', 'New York', 'London']\n",
    "}\n",
    "\n",
    "df = pd.DataFrame(data)\n",
    "\n",
    "# Initialize a KeplerGl map\n",
    "map_1 = KeplerGl(height=500)\n",
    "\n",
    "# Add the DataFrame as a data source to the map\n",
    "map_1.add_data(data=df, name=\"Cities\")\n",
    "\n",
    "# Display the map\n",
    "map_1"
   ]
  },
  {
   "cell_type": "code",
   "execution_count": 5,
   "id": "97951178-987a-4d84-8e0d-6ab5607e151f",
   "metadata": {},
   "outputs": [],
   "source": [
    "config = map_1.config"
   ]
  },
  {
   "cell_type": "code",
   "execution_count": 6,
   "id": "0dfb4e99-7b38-446c-b29d-316a01cc0ea2",
   "metadata": {
    "tags": []
   },
   "outputs": [
    {
     "data": {
      "text/plain": [
       "{}"
      ]
     },
     "execution_count": 6,
     "metadata": {},
     "output_type": "execute_result"
    }
   ],
   "source": [
    "config"
   ]
  },
  {
   "cell_type": "code",
   "execution_count": 7,
   "id": "2b4ee69f-aa72-4428-a7a0-773701bd9516",
   "metadata": {
    "tags": []
   },
   "outputs": [],
   "source": [
    "import json\n",
    "with open(\"config.json\", \"w\") as outfile:\n",
    "    json.dump(config, outfile)"
   ]
  },
  {
   "cell_type": "code",
   "execution_count": 9,
   "id": "07f5f5ea-c70c-4576-8a64-b9b8d27000d2",
   "metadata": {
    "tags": []
   },
   "outputs": [
    {
     "name": "stdout",
     "output_type": "stream",
     "text": [
      "Map saved to Practice_longlat.html!\n"
     ]
    }
   ],
   "source": [
    "map_1.save_to_html(file_name = 'Practice_longlat.html', read_only = False, config = config)"
   ]
  },
  {
   "cell_type": "code",
   "execution_count": null,
   "id": "a05b8b51-482e-4225-921a-0f863b738139",
   "metadata": {},
   "outputs": [],
   "source": []
  }
 ],
 "metadata": {
  "kernelspec": {
   "display_name": "Python [conda env:anaconda3-venv_nycbikes]",
   "language": "python",
   "name": "conda-env-anaconda3-venv_nycbikes-py"
  },
  "language_info": {
   "codemirror_mode": {
    "name": "ipython",
    "version": 3
   },
   "file_extension": ".py",
   "mimetype": "text/x-python",
   "name": "python",
   "nbconvert_exporter": "python",
   "pygments_lexer": "ipython3",
   "version": "3.12.4"
  }
 },
 "nbformat": 4,
 "nbformat_minor": 5
}
