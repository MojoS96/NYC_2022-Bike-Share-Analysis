{
 "cells": [
  {
   "cell_type": "markdown",
   "id": "e3b4e1f7-a3be-4b54-8f60-866728ec8d91",
   "metadata": {},
   "source": [
    "# CF 2.5: Advanced Geospatial Plotting\n",
    "\n",
    "#### With the prior visualizations generated which showcase the differences between user groups and environmental factors like weather, the next step is to build an understanding of the geogrpahy of New York and the popularity of the citbike service within particular regions or routes - This will help allow us to answer questions pertaining to possible areas of expansion or re-investment.\n",
    "\n",
    "### Script broken into 4 seperate sections:\n",
    "1. Library & Data importing\n",
    "2. Data checks\n",
    "3. Data PreProcessing\n",
    "4. Kepler.gl initialization & subsequent results"
   ]
  },
  {
   "cell_type": "code",
   "execution_count": 1,
   "id": "7d845165-d454-47b0-bf12-4cf59d4d0afd",
   "metadata": {
    "tags": []
   },
   "outputs": [],
   "source": [
    "import pandas as pd\n",
    "import os\n",
    "from pyproj import CRS\n",
    "import numpy as np\n",
    "from matplotlib import pyplot as plt"
   ]
  },
  {
   "cell_type": "code",
   "execution_count": 2,
   "id": "273e022c-0cdc-4113-82bf-1ddae09e516a",
   "metadata": {
    "tags": []
   },
   "outputs": [
    {
     "name": "stderr",
     "output_type": "stream",
     "text": [
      "C:\\Users\\mojos\\AppData\\Local\\Temp\\ipykernel_30816\\485023326.py:1: DtypeWarning: Columns (6,8) have mixed types. Specify dtype option on import or set low_memory=False.\n",
      "  df = pd.read_csv('nyc_bikes_dist.csv', index_col=0)\n"
     ]
    }
   ],
   "source": [
    "df = pd.read_csv('nyc_bikes_dist.csv', index_col=0)"
   ]
  },
  {
   "cell_type": "code",
   "execution_count": 3,
   "id": "16d1aac9-7543-4796-8507-44ccd439f89a",
   "metadata": {},
   "outputs": [
    {
     "data": {
      "text/plain": [
       "(30689921, 21)"
      ]
     },
     "execution_count": 3,
     "metadata": {},
     "output_type": "execute_result"
    }
   ],
   "source": [
    "df.shape"
   ]
  },
  {
   "cell_type": "code",
   "execution_count": 4,
   "id": "17fa776b-5c3c-48d5-9714-2841d4c7bad0",
   "metadata": {
    "tags": []
   },
   "outputs": [
    {
     "data": {
      "text/html": [
       "<div>\n",
       "<style scoped>\n",
       "    .dataframe tbody tr th:only-of-type {\n",
       "        vertical-align: middle;\n",
       "    }\n",
       "\n",
       "    .dataframe tbody tr th {\n",
       "        vertical-align: top;\n",
       "    }\n",
       "\n",
       "    .dataframe thead th {\n",
       "        text-align: right;\n",
       "    }\n",
       "</style>\n",
       "<table border=\"1\" class=\"dataframe\">\n",
       "  <thead>\n",
       "    <tr style=\"text-align: right;\">\n",
       "      <th></th>\n",
       "      <th>ride_id</th>\n",
       "      <th>rideable_type</th>\n",
       "      <th>started_at</th>\n",
       "      <th>ended_at</th>\n",
       "      <th>start_station_name</th>\n",
       "      <th>start_station_id</th>\n",
       "      <th>end_station_name</th>\n",
       "      <th>end_station_id</th>\n",
       "      <th>start_lat</th>\n",
       "      <th>start_lng</th>\n",
       "      <th>...</th>\n",
       "      <th>end_lng</th>\n",
       "      <th>member_casual</th>\n",
       "      <th>start_time</th>\n",
       "      <th>date</th>\n",
       "      <th>avgTemp</th>\n",
       "      <th>bike_rides_daily</th>\n",
       "      <th>trip_time</th>\n",
       "      <th>trip_dist_km</th>\n",
       "      <th>_merge</th>\n",
       "      <th>value</th>\n",
       "    </tr>\n",
       "  </thead>\n",
       "  <tbody>\n",
       "    <tr>\n",
       "      <th>0</th>\n",
       "      <td>68FDAB9B6656A4DF</td>\n",
       "      <td>classic_bike</td>\n",
       "      <td>2022-01-01 05:11:08</td>\n",
       "      <td>2022-01-01 05:15:25</td>\n",
       "      <td>W 21 St &amp; 6 Ave</td>\n",
       "      <td>6140.05</td>\n",
       "      <td>W 11 St &amp; 6 Ave</td>\n",
       "      <td>5914.03</td>\n",
       "      <td>40.741740</td>\n",
       "      <td>-73.994156</td>\n",
       "      <td>...</td>\n",
       "      <td>-73.998004</td>\n",
       "      <td>member</td>\n",
       "      <td>2022-01-01 05:11:08</td>\n",
       "      <td>2022-01-01</td>\n",
       "      <td>11.6</td>\n",
       "      <td>20895</td>\n",
       "      <td>4.0</td>\n",
       "      <td>0.783088</td>\n",
       "      <td>both</td>\n",
       "      <td>1</td>\n",
       "    </tr>\n",
       "    <tr>\n",
       "      <th>1</th>\n",
       "      <td>91C955306D2CF8A6</td>\n",
       "      <td>electric_bike</td>\n",
       "      <td>2022-01-01 20:54:00</td>\n",
       "      <td>2022-01-01 21:06:39</td>\n",
       "      <td>Bedford Ave &amp; Nassau Ave</td>\n",
       "      <td>5550.05</td>\n",
       "      <td>Sharon St &amp; Olive St</td>\n",
       "      <td>5323.05</td>\n",
       "      <td>40.723117</td>\n",
       "      <td>-73.952123</td>\n",
       "      <td>...</td>\n",
       "      <td>-73.938560</td>\n",
       "      <td>member</td>\n",
       "      <td>2022-01-01 20:54:00</td>\n",
       "      <td>2022-01-01</td>\n",
       "      <td>11.6</td>\n",
       "      <td>20895</td>\n",
       "      <td>13.0</td>\n",
       "      <td>1.434057</td>\n",
       "      <td>both</td>\n",
       "      <td>1</td>\n",
       "    </tr>\n",
       "    <tr>\n",
       "      <th>2</th>\n",
       "      <td>B379B77AEB677F2A</td>\n",
       "      <td>electric_bike</td>\n",
       "      <td>2022-01-01 15:48:06</td>\n",
       "      <td>2022-01-01 16:44:21</td>\n",
       "      <td>Central Park W &amp; W 91 St</td>\n",
       "      <td>7453.01</td>\n",
       "      <td>5 Ave &amp; E 87 St</td>\n",
       "      <td>7323.09</td>\n",
       "      <td>40.788665</td>\n",
       "      <td>-73.966801</td>\n",
       "      <td>...</td>\n",
       "      <td>-73.959875</td>\n",
       "      <td>casual</td>\n",
       "      <td>2022-01-01 15:48:06</td>\n",
       "      <td>2022-01-01</td>\n",
       "      <td>11.6</td>\n",
       "      <td>20895</td>\n",
       "      <td>56.0</td>\n",
       "      <td>0.915302</td>\n",
       "      <td>both</td>\n",
       "      <td>1</td>\n",
       "    </tr>\n",
       "    <tr>\n",
       "      <th>3</th>\n",
       "      <td>1F1368CC1EEDA296</td>\n",
       "      <td>electric_bike</td>\n",
       "      <td>2022-01-01 02:32:52</td>\n",
       "      <td>2022-01-01 02:44:51</td>\n",
       "      <td>West End Ave &amp; W 78 St</td>\n",
       "      <td>7340.07</td>\n",
       "      <td>W 44 St &amp; 11 Ave</td>\n",
       "      <td>6756.05</td>\n",
       "      <td>40.783786</td>\n",
       "      <td>-73.981687</td>\n",
       "      <td>...</td>\n",
       "      <td>-73.996975</td>\n",
       "      <td>casual</td>\n",
       "      <td>2022-01-01 02:32:52</td>\n",
       "      <td>2022-01-01</td>\n",
       "      <td>11.6</td>\n",
       "      <td>20895</td>\n",
       "      <td>12.0</td>\n",
       "      <td>2.741188</td>\n",
       "      <td>both</td>\n",
       "      <td>1</td>\n",
       "    </tr>\n",
       "    <tr>\n",
       "      <th>4</th>\n",
       "      <td>9FE4ABC81014D80D</td>\n",
       "      <td>electric_bike</td>\n",
       "      <td>2022-01-01 17:43:17</td>\n",
       "      <td>2022-01-01 17:52:31</td>\n",
       "      <td>Lawrence St &amp; Willoughby St</td>\n",
       "      <td>4596.09</td>\n",
       "      <td>Carroll St &amp; 6 Ave</td>\n",
       "      <td>4019.06</td>\n",
       "      <td>40.692362</td>\n",
       "      <td>-73.986317</td>\n",
       "      <td>...</td>\n",
       "      <td>-73.978728</td>\n",
       "      <td>member</td>\n",
       "      <td>2022-01-01 17:43:17</td>\n",
       "      <td>2022-01-01</td>\n",
       "      <td>11.6</td>\n",
       "      <td>20895</td>\n",
       "      <td>9.0</td>\n",
       "      <td>2.128204</td>\n",
       "      <td>both</td>\n",
       "      <td>1</td>\n",
       "    </tr>\n",
       "  </tbody>\n",
       "</table>\n",
       "<p>5 rows × 21 columns</p>\n",
       "</div>"
      ],
      "text/plain": [
       "            ride_id  rideable_type           started_at             ended_at  \\\n",
       "0  68FDAB9B6656A4DF   classic_bike  2022-01-01 05:11:08  2022-01-01 05:15:25   \n",
       "1  91C955306D2CF8A6  electric_bike  2022-01-01 20:54:00  2022-01-01 21:06:39   \n",
       "2  B379B77AEB677F2A  electric_bike  2022-01-01 15:48:06  2022-01-01 16:44:21   \n",
       "3  1F1368CC1EEDA296  electric_bike  2022-01-01 02:32:52  2022-01-01 02:44:51   \n",
       "4  9FE4ABC81014D80D  electric_bike  2022-01-01 17:43:17  2022-01-01 17:52:31   \n",
       "\n",
       "            start_station_name start_station_id      end_station_name  \\\n",
       "0              W 21 St & 6 Ave          6140.05       W 11 St & 6 Ave   \n",
       "1     Bedford Ave & Nassau Ave          5550.05  Sharon St & Olive St   \n",
       "2     Central Park W & W 91 St          7453.01       5 Ave & E 87 St   \n",
       "3       West End Ave & W 78 St          7340.07      W 44 St & 11 Ave   \n",
       "4  Lawrence St & Willoughby St          4596.09    Carroll St & 6 Ave   \n",
       "\n",
       "  end_station_id  start_lat  start_lng  ...    end_lng  member_casual  \\\n",
       "0        5914.03  40.741740 -73.994156  ... -73.998004         member   \n",
       "1        5323.05  40.723117 -73.952123  ... -73.938560         member   \n",
       "2        7323.09  40.788665 -73.966801  ... -73.959875         casual   \n",
       "3        6756.05  40.783786 -73.981687  ... -73.996975         casual   \n",
       "4        4019.06  40.692362 -73.986317  ... -73.978728         member   \n",
       "\n",
       "            start_time        date avgTemp  bike_rides_daily  trip_time  \\\n",
       "0  2022-01-01 05:11:08  2022-01-01    11.6             20895        4.0   \n",
       "1  2022-01-01 20:54:00  2022-01-01    11.6             20895       13.0   \n",
       "2  2022-01-01 15:48:06  2022-01-01    11.6             20895       56.0   \n",
       "3  2022-01-01 02:32:52  2022-01-01    11.6             20895       12.0   \n",
       "4  2022-01-01 17:43:17  2022-01-01    11.6             20895        9.0   \n",
       "\n",
       "   trip_dist_km  _merge value  \n",
       "0      0.783088    both     1  \n",
       "1      1.434057    both     1  \n",
       "2      0.915302    both     1  \n",
       "3      2.741188    both     1  \n",
       "4      2.128204    both     1  \n",
       "\n",
       "[5 rows x 21 columns]"
      ]
     },
     "execution_count": 4,
     "metadata": {},
     "output_type": "execute_result"
    }
   ],
   "source": [
    "df.head()"
   ]
  },
  {
   "cell_type": "code",
   "execution_count": 5,
   "id": "cfd12864-ce34-4a7c-8756-77eb006ace17",
   "metadata": {
    "tags": []
   },
   "outputs": [
    {
     "data": {
      "text/plain": [
       "unfinished_ride\n",
       "0    30652405\n",
       "1       37516\n",
       "Name: count, dtype: int64"
      ]
     },
     "execution_count": 5,
     "metadata": {},
     "output_type": "execute_result"
    }
   ],
   "source": [
    "# generate a boolean val.\n",
    "df['unfinished_ride'] = df['end_lat'].isna().astype(int)\n",
    "df['unfinished_ride'].value_counts()"
   ]
  },
  {
   "cell_type": "code",
   "execution_count": 6,
   "id": "6c485d5b-b7a6-4756-be91-89f20cf872a5",
   "metadata": {},
   "outputs": [],
   "source": [
    "#Since we want to make sure that long/lat are included in our df in order to be able to plot the route density in NYC we will be removing the small\n",
    "#group of 'unfinished rides' where the long/lat of the end station are not given.\n",
    "\n",
    "df2 = df[df['unfinished_ride']!=1]"
   ]
  },
  {
   "cell_type": "code",
   "execution_count": 7,
   "id": "c433a1bf-6c6a-4163-bb67-c85b5eb60eef",
   "metadata": {
    "tags": []
   },
   "outputs": [
    {
     "data": {
      "text/plain": [
       "(30652405, 22)"
      ]
     },
     "execution_count": 7,
     "metadata": {},
     "output_type": "execute_result"
    }
   ],
   "source": [
    "df2.shape"
   ]
  },
  {
   "cell_type": "code",
   "execution_count": 8,
   "id": "6898ea11-c07b-4ceb-8db2-13dc539b5154",
   "metadata": {
    "tags": []
   },
   "outputs": [
    {
     "data": {
      "text/plain": [
       "ride_id                   0\n",
       "rideable_type             0\n",
       "started_at                0\n",
       "ended_at                  0\n",
       "start_station_name       50\n",
       "start_station_id         50\n",
       "end_station_name      34257\n",
       "end_station_id        34257\n",
       "start_lat                 0\n",
       "start_lng                 0\n",
       "end_lat                   0\n",
       "end_lng                   0\n",
       "member_casual             0\n",
       "start_time                0\n",
       "date                      0\n",
       "avgTemp                   0\n",
       "bike_rides_daily          0\n",
       "trip_time                 0\n",
       "trip_dist_km              0\n",
       "_merge                    0\n",
       "value                     0\n",
       "unfinished_ride           0\n",
       "dtype: int64"
      ]
     },
     "execution_count": 8,
     "metadata": {},
     "output_type": "execute_result"
    }
   ],
   "source": [
    "df2.isnull().sum()"
   ]
  },
  {
   "cell_type": "markdown",
   "id": "a42801a8-6f99-4235-99bd-95c6ead2a495",
   "metadata": {},
   "source": [
    "#### There are still rows with missing data, though they represent >1% of the total df - We may not loose much by removing these from the analysis.\n",
    "\n",
    "#### HOWEVER if we solely focus on coordinate values, we'll be able to retain the same qty of data. I'll have to see how these impact results as lat/long may have more pinpoint values which impact the apparant weight of some results"
   ]
  },
  {
   "cell_type": "code",
   "execution_count": 9,
   "id": "4d60e7b3-3a0e-4b14-9a15-97b980faf0a0",
   "metadata": {
    "tags": []
   },
   "outputs": [],
   "source": [
    "# Identify rows with any missing values and store them\n",
    "rows_with_missing_values = df2[df2.isnull().any(axis=1)]\n",
    "\n",
    "# Drop rows with any missing values from the original DataFrame\n",
    "df_cleaned = df2.dropna()"
   ]
  },
  {
   "cell_type": "code",
   "execution_count": 10,
   "id": "c22073ab-6aae-4af4-a341-3976bdaafd01",
   "metadata": {
    "tags": []
   },
   "outputs": [],
   "source": [
    "# Due to issues with running the script / kepler I need to employ random sampling in order to be able to generate a dataset that doesn't overwhelm my PC.\n",
    "np.random.seed(4)\n",
    "\n",
    "dev = np.random.rand(len(df_cleaned)) <= 0.7"
   ]
  },
  {
   "cell_type": "code",
   "execution_count": 11,
   "id": "f0e33871-d1a0-4dd3-aa9b-9c62878d3629",
   "metadata": {
    "tags": []
   },
   "outputs": [],
   "source": [
    "#Storing everything that is 'dev' (or under 0.7 random value) from the main DF - 70%\n",
    "\n",
    "big = df_cleaned[dev]"
   ]
  },
  {
   "cell_type": "code",
   "execution_count": 12,
   "id": "e0e5c323-ec14-4cc1-86bf-0be355ffeb2a",
   "metadata": {
    "tags": []
   },
   "outputs": [],
   "source": [
    "#Storing everything that is not 'dev' (30% of DF)\n",
    "small = df_cleaned[~dev]"
   ]
  },
  {
   "cell_type": "code",
   "execution_count": 13,
   "id": "721f6d7a-1283-47b3-9e40-581201564c2b",
   "metadata": {
    "tags": []
   },
   "outputs": [
    {
     "data": {
      "text/plain": [
       "30618148"
      ]
     },
     "execution_count": 13,
     "metadata": {},
     "output_type": "execute_result"
    }
   ],
   "source": [
    "len(df_cleaned)"
   ]
  },
  {
   "cell_type": "code",
   "execution_count": 14,
   "id": "794e2d26-22e6-4c17-aaa5-f978689ec868",
   "metadata": {
    "tags": []
   },
   "outputs": [
    {
     "data": {
      "text/plain": [
       "30618148"
      ]
     },
     "execution_count": 14,
     "metadata": {},
     "output_type": "execute_result"
    }
   ],
   "source": [
    "len(big) + len(small)"
   ]
  },
  {
   "cell_type": "code",
   "execution_count": 15,
   "id": "ffd06cae-1ea9-42e8-83d0-8fe49d29a5b4",
   "metadata": {
    "tags": []
   },
   "outputs": [],
   "source": [
    "df_group = small.groupby(['start_station_name', 'end_station_name', 'start_lat', 'start_lng', 'end_lat', 'end_lng',])['value'].count().reset_index()"
   ]
  },
  {
   "cell_type": "code",
   "execution_count": 16,
   "id": "4088a480-b9ed-4075-a156-9c0ab6ee2223",
   "metadata": {
    "tags": []
   },
   "outputs": [
    {
     "data": {
      "text/plain": [
       "np.int64(9184532)"
      ]
     },
     "execution_count": 16,
     "metadata": {},
     "output_type": "execute_result"
    }
   ],
   "source": [
    "df_group['value'].sum()"
   ]
  },
  {
   "cell_type": "code",
   "execution_count": 17,
   "id": "eaa16da2-2220-4b0e-9de2-c9043cc4d43a",
   "metadata": {
    "tags": []
   },
   "outputs": [
    {
     "data": {
      "text/plain": [
       "count    1.900121e+06\n",
       "mean     4.833656e+00\n",
       "std      2.205824e+01\n",
       "min      1.000000e+00\n",
       "25%      1.000000e+00\n",
       "50%      1.000000e+00\n",
       "75%      1.000000e+00\n",
       "max      3.643000e+03\n",
       "Name: value, dtype: float64"
      ]
     },
     "execution_count": 17,
     "metadata": {},
     "output_type": "execute_result"
    }
   ],
   "source": [
    "df_group['value'].describe()"
   ]
  },
  {
   "cell_type": "markdown",
   "id": "d3307f6e-3584-4a67-96e6-9cfbf94d52bc",
   "metadata": {},
   "source": [
    "#### from the /describe() results above we can see that with a 'max' value of 12480 we do have some decent results from the aggregation. 'mean' is also not extremely close to '1' implying that specificity of the lat long coords didn't impact the aggregation results. (If the granularity was too small I may have been inundanted with trips only logged once.\n",
    "\n",
    "#### If I notice on the geospatial visualizations that any trips don't appear to have sufficient weighting I'll reassess this script."
   ]
  },
  {
   "cell_type": "code",
   "execution_count": 18,
   "id": "3f798b0a-4299-4a3a-89b4-9273a1b41eeb",
   "metadata": {
    "tags": []
   },
   "outputs": [
    {
     "data": {
      "image/png": "[encoded data removed]",
      "text/plain": [
       "<Figure size 640x480 with 1 Axes>"
      ]
     },
     "metadata": {},
     "output_type": "display_data"
    }
   ],
   "source": [
    "df_group['value'].hist(bins = 100)\n",
    "plt.show()"
   ]
  },
  {
   "cell_type": "code",
   "execution_count": 19,
   "id": "3ae64711-cebf-4aed-b3a9-71e689f52649",
   "metadata": {
    "tags": []
   },
   "outputs": [
    {
     "data": {
      "text/plain": [
       "[]"
      ]
     },
     "execution_count": 19,
     "metadata": {},
     "output_type": "execute_result"
    },
    {
     "data": {
      "image/png": "[encoded data removed]",
      "text/plain": [
       "<Figure size 640x480 with 1 Axes>"
      ]
     },
     "metadata": {},
     "output_type": "display_data"
    }
   ],
   "source": [
    "b_plot = df_group.boxplot(column = 'value') \n",
    "b_plot.plot()"
   ]
  },
  {
   "cell_type": "code",
   "execution_count": 20,
   "id": "1c2d3298-11e0-4fd7-819b-44d28577b5a2",
   "metadata": {
    "tags": []
   },
   "outputs": [
    {
     "data": {
      "text/plain": [
       "value\n",
       "1       1477217\n",
       "2         92273\n",
       "3         52063\n",
       "4         35274\n",
       "5         25520\n",
       "         ...   \n",
       "623           1\n",
       "777           1\n",
       "555           1\n",
       "529           1\n",
       "1544          1\n",
       "Name: count, Length: 830, dtype: int64"
      ]
     },
     "execution_count": 20,
     "metadata": {},
     "output_type": "execute_result"
    }
   ],
   "source": [
    "df_group['value'].sort_index().value_counts()"
   ]
  },
  {
   "cell_type": "code",
   "execution_count": 21,
   "id": "ee979321-e7fb-46d3-b348-655f0699b6a3",
   "metadata": {},
   "outputs": [],
   "source": [
    "df_group.rename(columns={'value':'Trip Count'},inplace=True)"
   ]
  },
  {
   "cell_type": "code",
   "execution_count": 22,
   "id": "8f00e7c8-e954-4f13-aa03-5cda0803d838",
   "metadata": {
    "tags": []
   },
   "outputs": [],
   "source": [
    "df_group.to_csv('nyc_longlat_agg2.csv')"
   ]
  },
  {
   "cell_type": "markdown",
   "id": "f6a1f86d-4615-49a9-943c-e0b975c8d56c",
   "metadata": {},
   "source": [
    "### Due to PC issues I've not been able to run KeplerGl within the script and have had to leave the link to the geospatial visualization here instead.\n",
    "\n",
    "### LINK:\n",
    "\n",
    "### Based on the visualizations it's quite clear where the patterns are forming and what behaviours they hint at. The primary routes appear to be in toursit hotspots and are 'typically' simplistic routes which don't zigzag through the city (The arcs are 'as the crow flies' style lines, since we only know the end results rather than the specific routes) and are reflective of casual usage rather than end-to-end commutes. The main areas which high usage are scenic city routes which would be popular with city tourists that would be unlikely to come into the city with their own form of transit. The two most popular areas are the A) HUDSON RIVER GREENWAY (https://citibikenyc.com/explore/biking-hudson-river-greenway-temp) which overs scenic river routes through greenspaces and dedicated cycle paths which would be fantastic for casual users, and B) CENTRAL PARK, which gives NYC residents and tourists a break from the hustle and bustle. With over 42 Million Visits per year (https://en.wikipedia.org/wiki/Central_Park) and dedicated cycle routes it's no wonder that bikes are a popular choice (https://s3.amazonaws.com/assets.centralparknyc.org/media/documents/CPCWeb_Downloadablemaps_202407_Bike.pdf).\n",
    "### Slightly less important, but still interesting observations are the qty of 'island' rentals that occur on both ROOSEVELT island and GOVERNERS island - Attractions which would probably be popular with both tourists and locals as they would be a ferry away and people may be less likely to bring their own bikes with them (but that's simple conjecture)\n",
    "#### Lastly, There is a strong pocket of rides in the center of the city south of Central Park which represents high traffic tourist routes close to landmarks such as TIMES SQUARE, the EMPIRE STATE BUILDING, MADISON SQUARE GARDEN and the two most used stations - GRAND CENTRAL STATION and PENN STATION."
   ]
  },
  {
   "cell_type": "code",
   "execution_count": null,
   "id": "5c52d79d-4596-4962-affb-66524359c373",
   "metadata": {},
   "outputs": [],
   "source": []
  }
 ],
 "metadata": {
  "kernelspec": {
   "display_name": "Python [conda env:anaconda3-venv_nycbikes]",
   "language": "python",
   "name": "conda-env-anaconda3-venv_nycbikes-py"
  },
  "language_info": {
   "codemirror_mode": {
    "name": "ipython",
    "version": 3
   },
   "file_extension": ".py",
   "mimetype": "text/x-python",
   "name": "python",
   "nbconvert_exporter": "python",
   "pygments_lexer": "ipython3",
   "version": "3.12.4"
  }
 },
 "nbformat": 4,
 "nbformat_minor": 5
}
